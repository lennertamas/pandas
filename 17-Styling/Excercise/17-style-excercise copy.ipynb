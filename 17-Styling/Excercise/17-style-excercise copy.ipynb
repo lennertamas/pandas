{
 "cells": [
  {
   "cell_type": "markdown",
   "metadata": {},
   "source": [
    "\n",
    "\n",
    "**Exercise 1: Conditional Formatting**\n",
    "\n",
    "Given a DataFrame containing student exam scores, apply conditional formatting to highlight cells with scores above a certain threshold in green and scores below the threshold in red."
   ]
  },
  {
   "cell_type": "code",
   "execution_count": null,
   "metadata": {},
   "outputs": [],
   "source": []
  },
  {
   "cell_type": "markdown",
   "metadata": {},
   "source": [
    "**Exercise 2: Custom Number Formatting**\n",
    "\n",
    "Given a DataFrame containing financial data with currency values, apply custom number formatting to display the values with a currency symbol and a specific number of decimal places."
   ]
  },
  {
   "cell_type": "code",
   "execution_count": null,
   "metadata": {},
   "outputs": [],
   "source": []
  },
  {
   "cell_type": "markdown",
   "metadata": {},
   "source": [
    "**Exercise 3: Multi-Column Styling**\n",
    "\n",
    "Create a DataFrame with multiple columns, and apply styling to specific columns based on different criteria. For example, you can color negative values in one column in red and highlight maximum values in another column."
   ]
  },
  {
   "cell_type": "code",
   "execution_count": null,
   "metadata": {},
   "outputs": [],
   "source": []
  },
  {
   "cell_type": "markdown",
   "metadata": {},
   "source": [
    "**Exercise 4: Gradient Background Colors**\n",
    "\n",
    "Generate a DataFrame with numerical data and apply styling to create a gradient background color for each cell based on the values. You can choose a suitable colormap for this exercise.\n"
   ]
  },
  {
   "cell_type": "code",
   "execution_count": null,
   "metadata": {},
   "outputs": [],
   "source": []
  },
  {
   "cell_type": "markdown",
   "metadata": {},
   "source": [
    "**Exercise 5: Highlight Specific Rows**\n",
    "\n",
    "Modify a DataFrame containing information about employees, and apply styling to highlight rows based on specific criteria, such as employees who have received awards or have completed a certain number of years in the company."
   ]
  },
  {
   "cell_type": "code",
   "execution_count": null,
   "metadata": {},
   "outputs": [],
   "source": []
  }
 ],
 "metadata": {
  "kernelspec": {
   "display_name": "base",
   "language": "python",
   "name": "python3"
  },
  "language_info": {
   "codemirror_mode": {
    "name": "ipython",
    "version": 3
   },
   "file_extension": ".py",
   "mimetype": "text/x-python",
   "name": "python",
   "nbconvert_exporter": "python",
   "pygments_lexer": "ipython3",
   "version": "3.9.16"
  },
  "orig_nbformat": 4
 },
 "nbformat": 4,
 "nbformat_minor": 2
}
