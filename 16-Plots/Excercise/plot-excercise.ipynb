{
 "cells": [
  {
   "cell_type": "markdown",
   "metadata": {},
   "source": [
    "### 1. Histogram\n",
    "\n",
    "- Generate a list of random ages between 0 and 100 with 30 items.\n",
    "- Convert the list into a Pandas Series using pd.Series().\n",
    "- Create a histogram with specifying the number of bins (0-20, 21-40, and 41-100), edge color, alpha (transparency), and color for the bars.\n",
    "- Customize the plot by adding labels, a title, and enabling grid lines.\n",
    "You can modify the data list with your own dataset, adjust the bin count, or change the appearance to suit your needs. \n"
   ]
  },
  {
   "cell_type": "code",
   "execution_count": null,
   "metadata": {},
   "outputs": [],
   "source": []
  },
  {
   "cell_type": "markdown",
   "metadata": {},
   "source": [
    "2. Pie chart\n",
    "\n",
    "- Create a dataframe from the ages Series, store date in Age column\n",
    "- Categorize the ages by group like the following: '0-20', '21-40', '41-100\n",
    "- Calculate row count by age groups\n",
    "- Create a pie chart with specifying any attributes of plot\n",
    "- Add the 'Age Distribution Pie Chart' as a title\n"
   ]
  },
  {
   "cell_type": "code",
   "execution_count": null,
   "metadata": {},
   "outputs": [],
   "source": []
  },
  {
   "cell_type": "markdown",
   "metadata": {},
   "source": [
    "### 3. Scatter plot\n",
    "\n",
    "In this exercise, we'll generate some random data and then create a scatter plot to visualize the relationship between two variables.\n",
    "\n",
    "- Create a new column based on the index of ages dataframe\n",
    "- Create a scatter plot to visaulize every individual age item where item values are on Y axis and index value is on X axis.\n",
    "- Format the plot with any setting"
   ]
  },
  {
   "cell_type": "code",
   "execution_count": null,
   "metadata": {},
   "outputs": [],
   "source": [
    "\n"
   ]
  }
 ],
 "metadata": {
  "kernelspec": {
   "display_name": "base",
   "language": "python",
   "name": "python3"
  },
  "language_info": {
   "codemirror_mode": {
    "name": "ipython",
    "version": 3
   },
   "file_extension": ".py",
   "mimetype": "text/x-python",
   "name": "python",
   "nbconvert_exporter": "python",
   "pygments_lexer": "ipython3",
   "version": "3.9.16"
  },
  "orig_nbformat": 4
 },
 "nbformat": 4,
 "nbformat_minor": 2
}
