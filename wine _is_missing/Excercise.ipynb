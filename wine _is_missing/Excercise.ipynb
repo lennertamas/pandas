{
 "cells": [
  {
   "cell_type": "markdown",
   "metadata": {
    "papermill": {
     "duration": 0.024691,
     "end_time": "2020-10-01T19:06:28.453717",
     "exception": false,
     "start_time": "2020-10-01T19:06:28.429026",
     "status": "completed"
    },
    "tags": []
   },
   "source": [
    "### Missing Values and Deleting Data points\n",
    "\n",
    "\n",
    "\n",
    "### Step 1. Import the necessary libraries numpy, pandas etc"
   ]
  },
  {
   "cell_type": "code",
   "execution_count": null,
   "metadata": {
    "execution": {
     "iopub.execute_input": "2020-10-01T19:06:28.507196Z",
     "iopub.status.busy": "2020-10-01T19:06:28.506440Z",
     "iopub.status.idle": "2020-10-01T19:06:28.508974Z",
     "shell.execute_reply": "2020-10-01T19:06:28.509545Z"
    },
    "papermill": {
     "duration": 0.032093,
     "end_time": "2020-10-01T19:06:28.509748",
     "exception": false,
     "start_time": "2020-10-01T19:06:28.477655",
     "status": "completed"
    },
    "tags": []
   },
   "outputs": [],
   "source": []
  },
  {
   "cell_type": "markdown",
   "metadata": {
    "papermill": {
     "duration": 0.025111,
     "end_time": "2020-10-01T19:06:28.559623",
     "exception": false,
     "start_time": "2020-10-01T19:06:28.534512",
     "status": "completed"
    },
    "tags": []
   },
   "source": [
    "### Step 2. Import the dataset *wine.csv* from this from the folder witho no header"
   ]
  },
  {
   "cell_type": "code",
   "execution_count": null,
   "metadata": {
    "execution": {
     "iopub.execute_input": "2020-10-01T19:06:28.628811Z",
     "iopub.status.busy": "2020-10-01T19:06:28.627993Z",
     "iopub.status.idle": "2020-10-01T19:06:28.837564Z",
     "shell.execute_reply": "2020-10-01T19:06:28.836731Z"
    },
    "papermill": {
     "duration": 0.254124,
     "end_time": "2020-10-01T19:06:28.837709",
     "exception": false,
     "start_time": "2020-10-01T19:06:28.583585",
     "status": "completed"
    },
    "tags": []
   },
   "outputs": [],
   "source": []
  },
  {
   "cell_type": "markdown",
   "metadata": {
    "papermill": {
     "duration": 0.023852,
     "end_time": "2020-10-01T19:06:28.886466",
     "exception": false,
     "start_time": "2020-10-01T19:06:28.862614",
     "status": "completed"
    },
    "tags": []
   },
   "source": [
    "### Step 3. Assign it to a variable called wine\n",
    "\n",
    "Please note that the original data text file doesn't contain any header. Please ensure that when you import the data, you should use a suitable argument so as to avoid data getting imported as header."
   ]
  },
  {
   "cell_type": "code",
   "execution_count": null,
   "metadata": {
    "execution": {
     "iopub.execute_input": "2020-10-01T19:06:28.956429Z",
     "iopub.status.busy": "2020-10-01T19:06:28.954472Z",
     "iopub.status.idle": "2020-10-01T19:06:28.971971Z",
     "shell.execute_reply": "2020-10-01T19:06:28.971175Z"
    },
    "papermill": {
     "duration": 0.061688,
     "end_time": "2020-10-01T19:06:28.972106",
     "exception": false,
     "start_time": "2020-10-01T19:06:28.910418",
     "status": "completed"
    },
    "tags": []
   },
   "outputs": [],
   "source": []
  },
  {
   "cell_type": "markdown",
   "metadata": {
    "papermill": {
     "duration": 0.024483,
     "end_time": "2020-10-01T19:06:29.022004",
     "exception": false,
     "start_time": "2020-10-01T19:06:28.997521",
     "status": "completed"
    },
    "tags": []
   },
   "source": [
    "### Step 4. Delete the first, fourth, seventh, nineth, eleventh, thirteenth and fourteenth columns"
   ]
  },
  {
   "cell_type": "code",
   "execution_count": null,
   "metadata": {
    "execution": {
     "iopub.execute_input": "2020-10-01T19:06:29.087892Z",
     "iopub.status.busy": "2020-10-01T19:06:29.087070Z",
     "iopub.status.idle": "2020-10-01T19:06:29.090780Z",
     "shell.execute_reply": "2020-10-01T19:06:29.090141Z"
    },
    "papermill": {
     "duration": 0.040821,
     "end_time": "2020-10-01T19:06:29.090914",
     "exception": false,
     "start_time": "2020-10-01T19:06:29.050093",
     "status": "completed"
    },
    "tags": []
   },
   "outputs": [],
   "source": []
  },
  {
   "cell_type": "markdown",
   "metadata": {
    "papermill": {
     "duration": 0.025276,
     "end_time": "2020-10-01T19:06:29.212984",
     "exception": false,
     "start_time": "2020-10-01T19:06:29.187708",
     "status": "completed"
    },
    "tags": []
   },
   "source": [
    "### Step 5. Assign the columns as below:\n",
    "\n",
    "The attributes are (dontated by Riccardo Leardi, riclea '@' anchem.unige.it):  \n",
    "1) alcohol  \n",
    "2) malic_acid  \n",
    "3) alcalinity_of_ash  \n",
    "4) magnesium  \n",
    "5) flavanoids  \n",
    "6) proanthocyanins  \n",
    "7) hue "
   ]
  },
  {
   "cell_type": "code",
   "execution_count": null,
   "metadata": {
    "execution": {
     "iopub.execute_input": "2020-10-01T19:06:29.282166Z",
     "iopub.status.busy": "2020-10-01T19:06:29.281192Z",
     "iopub.status.idle": "2020-10-01T19:06:29.286540Z",
     "shell.execute_reply": "2020-10-01T19:06:29.285795Z"
    },
    "papermill": {
     "duration": 0.048102,
     "end_time": "2020-10-01T19:06:29.286675",
     "exception": false,
     "start_time": "2020-10-01T19:06:29.238573",
     "status": "completed"
    },
    "tags": []
   },
   "outputs": [],
   "source": []
  },
  {
   "cell_type": "markdown",
   "metadata": {
    "papermill": {
     "duration": 0.026097,
     "end_time": "2020-10-01T19:06:29.339403",
     "exception": false,
     "start_time": "2020-10-01T19:06:29.313306",
     "status": "completed"
    },
    "tags": []
   },
   "source": [
    "### Step 6. Set the values of the first 3 values from alcohol column as NaN"
   ]
  },
  {
   "cell_type": "code",
   "execution_count": null,
   "metadata": {
    "execution": {
     "iopub.execute_input": "2020-10-01T19:06:29.398516Z",
     "iopub.status.busy": "2020-10-01T19:06:29.397715Z",
     "iopub.status.idle": "2020-10-01T19:06:29.405513Z",
     "shell.execute_reply": "2020-10-01T19:06:29.406085Z"
    },
    "papermill": {
     "duration": 0.040536,
     "end_time": "2020-10-01T19:06:29.406312",
     "exception": false,
     "start_time": "2020-10-01T19:06:29.365776",
     "status": "completed"
    },
    "tags": []
   },
   "outputs": [],
   "source": []
  },
  {
   "cell_type": "code",
   "execution_count": null,
   "metadata": {
    "execution": {
     "iopub.execute_input": "2020-10-01T19:06:29.478046Z",
     "iopub.status.busy": "2020-10-01T19:06:29.471603Z",
     "iopub.status.idle": "2020-10-01T19:06:29.482946Z",
     "shell.execute_reply": "2020-10-01T19:06:29.482283Z"
    },
    "papermill": {
     "duration": 0.047963,
     "end_time": "2020-10-01T19:06:29.483076",
     "exception": false,
     "start_time": "2020-10-01T19:06:29.435113",
     "status": "completed"
    },
    "tags": []
   },
   "outputs": [],
   "source": []
  },
  {
   "cell_type": "markdown",
   "metadata": {
    "papermill": {
     "duration": 0.027633,
     "end_time": "2020-10-01T19:06:29.538926",
     "exception": false,
     "start_time": "2020-10-01T19:06:29.511293",
     "status": "completed"
    },
    "tags": []
   },
   "source": [
    "### Step 7. Now set the value of the rows 3 and 4 of magnesium as NaN"
   ]
  },
  {
   "cell_type": "code",
   "execution_count": null,
   "metadata": {
    "execution": {
     "iopub.execute_input": "2020-10-01T19:06:29.602436Z",
     "iopub.status.busy": "2020-10-01T19:06:29.601513Z",
     "iopub.status.idle": "2020-10-01T19:06:29.606483Z",
     "shell.execute_reply": "2020-10-01T19:06:29.605292Z"
    },
    "papermill": {
     "duration": 0.039743,
     "end_time": "2020-10-01T19:06:29.606687",
     "exception": false,
     "start_time": "2020-10-01T19:06:29.566944",
     "status": "completed"
    },
    "tags": []
   },
   "outputs": [],
   "source": []
  },
  {
   "cell_type": "markdown",
   "metadata": {
    "papermill": {
     "duration": 0.028825,
     "end_time": "2020-10-01T19:06:29.742529",
     "exception": false,
     "start_time": "2020-10-01T19:06:29.713704",
     "status": "completed"
    },
    "tags": []
   },
   "source": [
    "### Step 8. Fill the value of NaN with the number 10 in alcohol and 100 in magnesium"
   ]
  },
  {
   "cell_type": "code",
   "execution_count": null,
   "metadata": {
    "execution": {
     "iopub.execute_input": "2020-10-01T19:06:29.820226Z",
     "iopub.status.busy": "2020-10-01T19:06:29.819076Z",
     "iopub.status.idle": "2020-10-01T19:06:29.823959Z",
     "shell.execute_reply": "2020-10-01T19:06:29.823255Z"
    },
    "papermill": {
     "duration": 0.05237,
     "end_time": "2020-10-01T19:06:29.824099",
     "exception": false,
     "start_time": "2020-10-01T19:06:29.771729",
     "status": "completed"
    },
    "tags": []
   },
   "outputs": [],
   "source": []
  },
  {
   "cell_type": "markdown",
   "metadata": {
    "papermill": {
     "duration": 0.029795,
     "end_time": "2020-10-01T19:06:29.883967",
     "exception": false,
     "start_time": "2020-10-01T19:06:29.854172",
     "status": "completed"
    },
    "tags": []
   },
   "source": [
    "### Step 9. Count the number of missing values in all columns."
   ]
  },
  {
   "cell_type": "code",
   "execution_count": null,
   "metadata": {
    "execution": {
     "iopub.execute_input": "2020-10-01T19:06:29.952552Z",
     "iopub.status.busy": "2020-10-01T19:06:29.951407Z",
     "iopub.status.idle": "2020-10-01T19:06:29.955804Z",
     "shell.execute_reply": "2020-10-01T19:06:29.955238Z"
    },
    "papermill": {
     "duration": 0.041741,
     "end_time": "2020-10-01T19:06:29.955928",
     "exception": false,
     "start_time": "2020-10-01T19:06:29.914187",
     "status": "completed"
    },
    "tags": []
   },
   "outputs": [],
   "source": []
  },
  {
   "cell_type": "markdown",
   "metadata": {
    "papermill": {
     "duration": 0.031031,
     "end_time": "2020-10-01T19:06:30.018072",
     "exception": false,
     "start_time": "2020-10-01T19:06:29.987041",
     "status": "completed"
    },
    "tags": []
   },
   "source": [
    "### Step 10.  Create an array of 10 random numbers up until 10 and save it."
   ]
  },
  {
   "cell_type": "code",
   "execution_count": null,
   "metadata": {
    "execution": {
     "iopub.execute_input": "2020-10-01T19:06:30.085692Z",
     "iopub.status.busy": "2020-10-01T19:06:30.084606Z",
     "iopub.status.idle": "2020-10-01T19:06:30.088389Z",
     "shell.execute_reply": "2020-10-01T19:06:30.087615Z"
    },
    "papermill": {
     "duration": 0.039647,
     "end_time": "2020-10-01T19:06:30.088518",
     "exception": false,
     "start_time": "2020-10-01T19:06:30.048871",
     "status": "completed"
    },
    "tags": []
   },
   "outputs": [],
   "source": []
  },
  {
   "cell_type": "markdown",
   "metadata": {
    "papermill": {
     "duration": 0.031208,
     "end_time": "2020-10-01T19:06:30.223245",
     "exception": false,
     "start_time": "2020-10-01T19:06:30.192037",
     "status": "completed"
    },
    "tags": []
   },
   "source": [
    "### Step 11.  Set the rows corresponding to the random numbers to NaN in the column *alcohol*"
   ]
  },
  {
   "cell_type": "code",
   "execution_count": null,
   "metadata": {
    "execution": {
     "iopub.execute_input": "2020-10-01T19:06:30.293537Z",
     "iopub.status.busy": "2020-10-01T19:06:30.292447Z",
     "iopub.status.idle": "2020-10-01T19:06:30.296138Z",
     "shell.execute_reply": "2020-10-01T19:06:30.295515Z"
    },
    "papermill": {
     "duration": 0.041396,
     "end_time": "2020-10-01T19:06:30.296292",
     "exception": false,
     "start_time": "2020-10-01T19:06:30.254896",
     "status": "completed"
    },
    "tags": []
   },
   "outputs": [],
   "source": []
  },
  {
   "cell_type": "markdown",
   "metadata": {
    "papermill": {
     "duration": 0.03224,
     "end_time": "2020-10-01T19:06:30.450676",
     "exception": false,
     "start_time": "2020-10-01T19:06:30.418436",
     "status": "completed"
    },
    "tags": []
   },
   "source": [
    "### Step 12.  How many missing values do we have now?"
   ]
  },
  {
   "cell_type": "code",
   "execution_count": null,
   "metadata": {
    "execution": {
     "iopub.execute_input": "2020-10-01T19:06:30.522445Z",
     "iopub.status.busy": "2020-10-01T19:06:30.521487Z",
     "iopub.status.idle": "2020-10-01T19:06:30.525761Z",
     "shell.execute_reply": "2020-10-01T19:06:30.525116Z"
    },
    "papermill": {
     "duration": 0.042811,
     "end_time": "2020-10-01T19:06:30.525883",
     "exception": false,
     "start_time": "2020-10-01T19:06:30.483072",
     "status": "completed"
    },
    "tags": []
   },
   "outputs": [],
   "source": []
  },
  {
   "cell_type": "markdown",
   "metadata": {
    "papermill": {
     "duration": 0.032812,
     "end_time": "2020-10-01T19:06:30.592006",
     "exception": false,
     "start_time": "2020-10-01T19:06:30.559194",
     "status": "completed"
    },
    "tags": []
   },
   "source": [
    "### Step 14. Print only the non-null values in alcohol"
   ]
  },
  {
   "cell_type": "code",
   "execution_count": null,
   "metadata": {
    "execution": {
     "iopub.execute_input": "2020-10-01T19:06:30.668290Z",
     "iopub.status.busy": "2020-10-01T19:06:30.667332Z",
     "iopub.status.idle": "2020-10-01T19:06:30.672263Z",
     "shell.execute_reply": "2020-10-01T19:06:30.671633Z"
    },
    "papermill": {
     "duration": 0.047072,
     "end_time": "2020-10-01T19:06:30.672387",
     "exception": false,
     "start_time": "2020-10-01T19:06:30.625315",
     "status": "completed"
    },
    "tags": []
   },
   "outputs": [],
   "source": []
  },
  {
   "cell_type": "markdown",
   "metadata": {
    "papermill": {
     "duration": 0.033794,
     "end_time": "2020-10-01T19:06:30.740580",
     "exception": false,
     "start_time": "2020-10-01T19:06:30.706786",
     "status": "completed"
    },
    "tags": []
   },
   "source": [
    "### Step 13. Delete the rows that contain missing values"
   ]
  },
  {
   "cell_type": "code",
   "execution_count": null,
   "metadata": {
    "execution": {
     "iopub.execute_input": "2020-10-01T19:06:30.814855Z",
     "iopub.status.busy": "2020-10-01T19:06:30.814042Z",
     "iopub.status.idle": "2020-10-01T19:06:30.853872Z",
     "shell.execute_reply": "2020-10-01T19:06:30.853060Z"
    },
    "papermill": {
     "duration": 0.079519,
     "end_time": "2020-10-01T19:06:30.854008",
     "exception": false,
     "start_time": "2020-10-01T19:06:30.774489",
     "status": "completed"
    },
    "tags": []
   },
   "outputs": [],
   "source": []
  },
  {
   "cell_type": "markdown",
   "metadata": {
    "papermill": {
     "duration": 0.034435,
     "end_time": "2020-10-01T19:06:30.924474",
     "exception": false,
     "start_time": "2020-10-01T19:06:30.890039",
     "status": "completed"
    },
    "tags": []
   },
   "source": [
    "### Step 15.  Reset the index, so it starts with 0 again"
   ]
  },
  {
   "cell_type": "code",
   "execution_count": null,
   "metadata": {
    "execution": {
     "iopub.execute_input": "2020-10-01T19:06:31.014737Z",
     "iopub.status.busy": "2020-10-01T19:06:31.013710Z",
     "iopub.status.idle": "2020-10-01T19:06:31.018467Z",
     "shell.execute_reply": "2020-10-01T19:06:31.017846Z"
    },
    "papermill": {
     "duration": 0.059489,
     "end_time": "2020-10-01T19:06:31.018592",
     "exception": false,
     "start_time": "2020-10-01T19:06:30.959103",
     "status": "completed"
    },
    "tags": []
   },
   "outputs": [],
   "source": []
  }
 ],
 "metadata": {
  "kernelspec": {
   "display_name": "Python 3",
   "language": "python",
   "name": "python3"
  },
  "language_info": {
   "codemirror_mode": {
    "name": "ipython",
    "version": 3
   },
   "file_extension": ".py",
   "mimetype": "text/x-python",
   "name": "python",
   "nbconvert_exporter": "python",
   "pygments_lexer": "ipython3",
   "version": "3.9.16"
  },
  "papermill": {
   "duration": 7.778165,
   "end_time": "2020-10-01T19:06:31.162578",
   "environment_variables": {},
   "exception": null,
   "input_path": "__notebook__.ipynb",
   "output_path": "__notebook__.ipynb",
   "parameters": {},
   "start_time": "2020-10-01T19:06:23.384413",
   "version": "2.1.0"
  }
 },
 "nbformat": 4,
 "nbformat_minor": 4
}
