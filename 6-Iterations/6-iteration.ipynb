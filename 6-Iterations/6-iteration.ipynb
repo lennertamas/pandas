{
 "cells": [
  {
   "cell_type": "markdown",
   "metadata": {},
   "source": [
    "### Iterating a DataFrame"
   ]
  },
  {
   "cell_type": "code",
   "execution_count": 3,
   "metadata": {},
   "outputs": [
    {
     "name": "stdout",
     "output_type": "stream",
     "text": [
      "           A    x         y       C           D\n",
      "0 2016-01-01  0.0  0.014874  Medium  115.800512\n",
      "1 2016-01-02  1.0  0.769520     Low   97.885702\n",
      "2 2016-01-03  2.0  0.066493    High  125.483221\n",
      "3 2016-01-04  3.0  0.474036     Low  110.904667\n",
      "4 2016-01-05  4.0  0.769325  Medium   89.430373\n",
      "A\n",
      "x\n",
      "y\n",
      "C\n",
      "D\n"
     ]
    }
   ],
   "source": [
    "import pandas as pd\n",
    "import numpy as np\n",
    "\n",
    "N = 10\n",
    "df = pd.DataFrame({\n",
    "   'A': pd.date_range(start='2016-01-01',periods=N,freq='D'),\n",
    "   'x': np.linspace(0,stop=N-1,num=N),\n",
    "   'y': np.random.rand(N),\n",
    "   'C': np.random.choice(['Low','Medium','High'],N).tolist(),\n",
    "   'D': np.random.normal(100, 10, size=(N)).tolist()\n",
    "   })\n",
    "print (df.head(5))\n",
    "\n",
    "for col in df:\n",
    "   print(col)\n"
   ]
  },
  {
   "cell_type": "markdown",
   "metadata": {},
   "source": [
    "### iteritems()\n",
    "\n",
    "Iterates over each column as key, value pair with label as key and column value as a Series object."
   ]
  },
  {
   "cell_type": "code",
   "execution_count": 5,
   "metadata": {},
   "outputs": [
    {
     "name": "stdout",
     "output_type": "stream",
     "text": [
      "col1 0   -0.471850\n",
      "1   -0.428397\n",
      "2    0.814579\n",
      "3    0.569009\n",
      "Name: col1, dtype: float64\n",
      "col2 0   -0.292858\n",
      "1    0.013956\n",
      "2    1.181545\n",
      "3    0.588584\n",
      "Name: col2, dtype: float64\n",
      "col3 0   -1.212112\n",
      "1   -0.215147\n",
      "2   -2.303726\n",
      "3   -1.377678\n",
      "Name: col3, dtype: float64\n"
     ]
    }
   ],
   "source": [
    "df = pd.DataFrame(np.random.randn(4,3),columns=['col1','col2','col3'])\n",
    "for key,value in df.iteritems():\n",
    "   print (key,value)"
   ]
  },
  {
   "cell_type": "markdown",
   "metadata": {},
   "source": [
    "### iterrows()"
   ]
  },
  {
   "cell_type": "code",
   "execution_count": 8,
   "metadata": {},
   "outputs": [
    {
     "name": "stdout",
     "output_type": "stream",
     "text": [
      "0\n",
      "col1   -0.471850\n",
      "col2   -0.292858\n",
      "col3   -1.212112\n",
      "Name: 0, dtype: float64\n",
      "1\n",
      "col1   -0.428397\n",
      "col2    0.013956\n",
      "col3   -0.215147\n",
      "Name: 1, dtype: float64\n",
      "2\n",
      "col1    0.814579\n",
      "col2    1.181545\n",
      "col3   -2.303726\n",
      "Name: 2, dtype: float64\n",
      "3\n",
      "col1    0.569009\n",
      "col2    0.588584\n",
      "col3   -1.377678\n",
      "Name: 3, dtype: float64\n"
     ]
    }
   ],
   "source": [
    "for row_index,row in df.iterrows():\n",
    "   print (row_index)\n",
    "   print (row)"
   ]
  },
  {
   "cell_type": "markdown",
   "metadata": {},
   "source": [
    "### itertuples()\n",
    "\n",
    "yielding a named tuple for each row in the DataFrame"
   ]
  },
  {
   "cell_type": "code",
   "execution_count": 9,
   "metadata": {},
   "outputs": [
    {
     "name": "stdout",
     "output_type": "stream",
     "text": [
      "Pandas(Index=0, col1=-0.47185022773405416, col2=-0.2928581428489217, col3=-1.2121118451462871)\n",
      "Pandas(Index=1, col1=-0.42839692146005287, col2=0.013955575767549789, col3=-0.21514747513272175)\n",
      "Pandas(Index=2, col1=0.8145792767509878, col2=1.1815446712073714, col3=-2.30372578454995)\n",
      "Pandas(Index=3, col1=0.5690090992813117, col2=0.588583646972924, col3=-1.377677524142666)\n"
     ]
    }
   ],
   "source": [
    "for row in df.itertuples():\n",
    "    print (row)"
   ]
  }
 ],
 "metadata": {
  "kernelspec": {
   "display_name": "base",
   "language": "python",
   "name": "python3"
  },
  "language_info": {
   "codemirror_mode": {
    "name": "ipython",
    "version": 3
   },
   "file_extension": ".py",
   "mimetype": "text/x-python",
   "name": "python",
   "nbconvert_exporter": "python",
   "pygments_lexer": "ipython3",
   "version": "3.9.16"
  },
  "orig_nbformat": 4
 },
 "nbformat": 4,
 "nbformat_minor": 2
}
