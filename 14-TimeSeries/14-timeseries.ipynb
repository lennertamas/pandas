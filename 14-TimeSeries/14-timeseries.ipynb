{
 "cells": [
  {
   "cell_type": "markdown",
   "metadata": {},
   "source": [
    " There are a lot of definitions for time series, generally it’s defined as a set of data points collected over a period of time. Or speaking in a Pythonic way, it refers to a dataset with a datetime index, and at least one column with numerical values.\n",
    "\n",
    " That collection shows how to apply pandas to a time series dataset with an example.\n",
    " [Source](https://medium.com/p/c6cb7c0a3680#aca7)"
   ]
  },
  {
   "cell_type": "code",
   "execution_count": null,
   "metadata": {},
   "outputs": [],
   "source": [
    "#import libraries\n",
    "\n",
    "import pandas as pd\n",
    "import numpy as np\n",
    "import random\n",
    "from datetime import datetime "
   ]
  },
  {
   "cell_type": "code",
   "execution_count": null,
   "metadata": {},
   "outputs": [],
   "source": [
    "\n",
    "random.seed(365)\n",
    "np.random.seed(365)\n",
    "rows = 55\n",
    "\n",
    "# generate list of date\n",
    "dates = pd.bdate_range(datetime(2020, 1, 1), freq='2W', periods=rows).tolist()\n",
    "\n",
    "# create a dictionary with the date generated and blood sugar level\n",
    "data = {'date': dates,\n",
    "        'blood_sugar_level': np.random.normal(5.5, 1, size=(1, rows))[0]}\n",
    "# create dataframe\n",
    "df = pd.DataFrame(data)\n",
    "df = df.sort_values(by=[\"date\"])\n",
    "df = df.set_index(keys=\"date\")\n",
    "    \n",
    "print(df.shape)\n",
    "df.head(10)"
   ]
  },
  {
   "cell_type": "markdown",
   "metadata": {},
   "source": [
    "### DateTime Format Manipulation\n",
    "\n",
    "Five methods that can be used for manipulating datetime series.\n",
    "\n",
    "`pandas.Series.dt.normalize` — Convert times to midnight, 12:00:00.\n",
    "`pandas.Series.dt.round` — Perform round operation on the data to the specified freq.\n",
    "`pandas.Series.dt.floor` — Perform floor operation on the data to the specified freq.\n",
    "`pandas.Series.dt.ceil` — Perform ceil operation on the data to the specified freq.\n",
    "`pandas.Series.dt.strftime` — Convert to Index using specified date_format."
   ]
  },
  {
   "cell_type": "code",
   "execution_count": null,
   "metadata": {},
   "outputs": [],
   "source": [
    "#Timestamp round\n",
    "\n",
    "ts = pd.date_range(pd.Timestamp(\"2023-04-06 12:00\"), periods=5, freq='2H')\n",
    "print(\"Before normalize\\n\", ts)\n",
    "freq = \"6H\"\n",
    "ts_norm = ts.normalize()\n",
    "ts_round = ts.round(freq=freq)\n",
    "ts_floor = ts.floor(freq=freq)\n",
    "ts_ceil = ts.ceil(freq=freq)\n",
    "print(\"After normalize\\n\", ts_norm)\n",
    "print(\"After round off\\n\",ts_round)\n",
    "print(\"After round off to floor\\n\",ts_floor)\n",
    "print(\"After round off to ceiling\\n\",ts_ceil)"
   ]
  },
  {
   "cell_type": "code",
   "execution_count": null,
   "metadata": {},
   "outputs": [],
   "source": [
    "df['dates'] = df.index\n",
    "\n",
    "freq = \"D\"\n",
    "df[\"ts_norm\"] = df.dates.dt.normalize()\n",
    "df[\"ts_round\"] = df.dates.dt.round(freq=freq)\n",
    "df[\"ts_floor\"] = df.dates.dt.floor(freq=freq)\n",
    "df[\"ts_ceil\"] = df.dates.dt.ceil(freq=freq)\n",
    "df.head()"
   ]
  },
  {
   "cell_type": "markdown",
   "metadata": {},
   "source": [
    "Method to Convert the DateTime Format — `strftime()`\n",
    "\n",
    "format codes: https://docs.python.org/3/library/datetime.html#strftime-and-strptime-behavior"
   ]
  },
  {
   "cell_type": "code",
   "execution_count": null,
   "metadata": {},
   "outputs": [],
   "source": [
    "df[\"formatted_date\"] = df[\"dates\"].dt.strftime('%B %d, %Y')\n",
    "df.head()"
   ]
  },
  {
   "cell_type": "markdown",
   "metadata": {},
   "source": [
    "### Time Shift\n",
    "\n",
    "`pandas.Series.shift` — Shift the time index, using the index’s frequency if available."
   ]
  },
  {
   "cell_type": "code",
   "execution_count": 91,
   "metadata": {},
   "outputs": [
    {
     "data": {
      "text/html": [
       "<div>\n",
       "<style scoped>\n",
       "    .dataframe tbody tr th:only-of-type {\n",
       "        vertical-align: middle;\n",
       "    }\n",
       "\n",
       "    .dataframe tbody tr th {\n",
       "        vertical-align: top;\n",
       "    }\n",
       "\n",
       "    .dataframe thead th {\n",
       "        text-align: right;\n",
       "    }\n",
       "</style>\n",
       "<table border=\"1\" class=\"dataframe\">\n",
       "  <thead>\n",
       "    <tr style=\"text-align: right;\">\n",
       "      <th></th>\n",
       "      <th>blood_sugar_level</th>\n",
       "    </tr>\n",
       "    <tr>\n",
       "      <th>period</th>\n",
       "      <th></th>\n",
       "    </tr>\n",
       "  </thead>\n",
       "  <tbody>\n",
       "    <tr>\n",
       "      <th>2020-01</th>\n",
       "      <td>NaN</td>\n",
       "    </tr>\n",
       "    <tr>\n",
       "      <th>2020-02</th>\n",
       "      <td>5.845713</td>\n",
       "    </tr>\n",
       "    <tr>\n",
       "      <th>2020-03</th>\n",
       "      <td>6.760611</td>\n",
       "    </tr>\n",
       "    <tr>\n",
       "      <th>2020-04</th>\n",
       "      <td>4.769035</td>\n",
       "    </tr>\n",
       "    <tr>\n",
       "      <th>2020-05</th>\n",
       "      <td>5.536485</td>\n",
       "    </tr>\n",
       "  </tbody>\n",
       "</table>\n",
       "</div>"
      ],
      "text/plain": [
       "         blood_sugar_level\n",
       "period                    \n",
       "2020-01                NaN\n",
       "2020-02           5.845713\n",
       "2020-03           6.760611\n",
       "2020-04           4.769035\n",
       "2020-05           5.536485"
      ]
     },
     "execution_count": 91,
     "metadata": {},
     "output_type": "execute_result"
    }
   ],
   "source": [
    "df_pivot.shift(periods=1).head()"
   ]
  },
  {
   "cell_type": "markdown",
   "metadata": {},
   "source": [
    "#### Converting DateTime to a Particular Period\n",
    "\n",
    "`pandas.Series.dt.to_period` — Cast to PeriodArray/Index at a particular frequency. Converts DatetimeArray/Index to PeriodArray/Index."
   ]
  },
  {
   "cell_type": "code",
   "execution_count": null,
   "metadata": {},
   "outputs": [],
   "source": [
    "ts = pd.date_range(pd.Timestamp(\"2023-04-06 13:00\"), periods=20, freq='W')\n",
    "print( ts)\n",
    "\n",
    "ts_period = ts.to_period(freq=\"M\").unique()\n",
    "print(ts_period)"
   ]
  },
  {
   "cell_type": "code",
   "execution_count": null,
   "metadata": {},
   "outputs": [],
   "source": [
    "df[\"period\"] = df[\"dates\"].dt.to_period(freq=\"M\")\n",
    "print(df[['dates', 'period']].head())\n",
    "\n",
    "#Create a pivot with groupped records by new monthly period\n",
    "df_pivot = pd.pivot_table(data=df, index=\"period\", values=\"blood_sugar_level\", aggfunc=np.mean)\n",
    "df_pivot"
   ]
  },
  {
   "cell_type": "code",
   "execution_count": null,
   "metadata": {},
   "outputs": [],
   "source": [
    "df[\"week_period\"] = df[\"dates\"].dt.to_period(freq=\"W\")\n",
    "df.head()\n",
    "df_pivot_week = pd.pivot_table(data=df, index=\"week_period\", values=\"blood_sugar_level\", aggfunc=np.mean)\n",
    "df_pivot_week.head()"
   ]
  },
  {
   "cell_type": "markdown",
   "metadata": {},
   "source": [
    "### Filtering DateTime Series based on Condition\n",
    "\n",
    "`pandas.Series.at_time` — Select values at a particular time of day (e.g., 9:30 AM). \n",
    "`pandas.Series.between_time` — Select values between particular times of the day (e.g., 9:00–9:30 AM)."
   ]
  },
  {
   "cell_type": "code",
   "execution_count": null,
   "metadata": {},
   "outputs": [],
   "source": [
    "df.at_time('8:00').head()"
   ]
  },
  {
   "cell_type": "code",
   "execution_count": null,
   "metadata": {},
   "outputs": [],
   "source": [
    "df.between_time(start_time=\"19:00\", end_time=\"21:00\").head()"
   ]
  },
  {
   "cell_type": "code",
   "execution_count": null,
   "metadata": {},
   "outputs": [],
   "source": [
    "df_pivot.resample(\"Q\").mean()"
   ]
  },
  {
   "cell_type": "markdown",
   "metadata": {},
   "source": [
    "### Resampling Time Series\n",
    "\n",
    "`pandas.Series.resample` — Convenience method for frequency conversion and resampling of time series. The object must have a datetime-like index (DatetimeIndex, PeriodIndex, or TimedeltaIndex), or the caller must pass the label of a datetime-like series/index to the on/level keyword parameter."
   ]
  },
  {
   "cell_type": "code",
   "execution_count": null,
   "metadata": {},
   "outputs": [],
   "source": [
    "df_pivot.resample(\"Y\").mean()"
   ]
  },
  {
   "cell_type": "code",
   "execution_count": null,
   "metadata": {},
   "outputs": [],
   "source": [
    "df_pivot[\"blood_sugar_level\"].plot(title=\"Blood Sugar Level Record from Jul'20 - Jun'21\", xlabel=\"Date\", ylabel=\"Blood Sugar Level\")"
   ]
  }
 ],
 "metadata": {
  "kernelspec": {
   "display_name": "base",
   "language": "python",
   "name": "python3"
  },
  "language_info": {
   "codemirror_mode": {
    "name": "ipython",
    "version": 3
   },
   "file_extension": ".py",
   "mimetype": "text/x-python",
   "name": "python",
   "nbconvert_exporter": "python",
   "pygments_lexer": "ipython3",
   "version": "3.9.16"
  },
  "orig_nbformat": 4
 },
 "nbformat": 4,
 "nbformat_minor": 2
}
