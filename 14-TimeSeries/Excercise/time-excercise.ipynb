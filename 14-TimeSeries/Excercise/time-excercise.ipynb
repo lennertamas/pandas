{
 "cells": [
  {
   "cell_type": "code",
   "execution_count": null,
   "metadata": {},
   "outputs": [],
   "source": [
    "import pandas as pd\n",
    "import datetime\n",
    "import numpy"
   ]
  },
  {
   "cell_type": "markdown",
   "metadata": {},
   "source": [
    "1. **Create a DatetimeIndex:**\n",
    "   Create a DatetimeIndex representing all the days in January 2023."
   ]
  },
  {
   "cell_type": "code",
   "execution_count": null,
   "metadata": {},
   "outputs": [],
   "source": []
  },
  {
   "cell_type": "markdown",
   "metadata": {},
   "source": [
    "2. **Resample Time Series Data:**\n",
    "   Download historical stock price data for a company (e.g., AAPL) from a source like Yahoo Finance, and create a DataFrame with a DatetimeIndex. Then, resample the data to calculate the monthly average closing prices."
   ]
  },
  {
   "cell_type": "code",
   "execution_count": null,
   "metadata": {},
   "outputs": [],
   "source": [
    "\n"
   ]
  },
  {
   "cell_type": "markdown",
   "metadata": {},
   "source": [
    "3. **Slicing Time Series Data:**\n",
    "   Given a DataFrame with a DatetimeIndex containing daily temperature data, slice the data to select only the temperatures recorded in the month of July."
   ]
  },
  {
   "cell_type": "code",
   "execution_count": null,
   "metadata": {},
   "outputs": [],
   "source": []
  },
  {
   "cell_type": "markdown",
   "metadata": {},
   "source": [
    "4. **Time-Based Filtering:**\n",
    "   Load a dataset containing timestamped user activity data (e.g., login/logout times). Use the DatetimeIndex to filter and count the number of user logins that occurred during a specific time period (e.g., between 9:00 AM and 5:00 PM)."
   ]
  },
  {
   "cell_type": "code",
   "execution_count": null,
   "metadata": {},
   "outputs": [],
   "source": []
  },
  {
   "cell_type": "markdown",
   "metadata": {},
   "source": [
    "5. **Time Shifting:**\n",
    "   Take a DataFrame with a DatetimeIndex containing stock price data and shift the closing prices forward by one day. Calculate the percentage change in prices after the shift."
   ]
  },
  {
   "cell_type": "code",
   "execution_count": null,
   "metadata": {},
   "outputs": [],
   "source": []
  },
  {
   "cell_type": "markdown",
   "metadata": {},
   "source": [
    "6. **Grouping by Time Period:**\n",
    "   Load a dataset with timestamped sales transactions and use the DatetimeIndex to group the sales data by month and calculate the total sales amount for each month."
   ]
  },
  {
   "cell_type": "code",
   "execution_count": null,
   "metadata": {},
   "outputs": [],
   "source": []
  },
  {
   "cell_type": "markdown",
   "metadata": {},
   "source": [
    "7. **Time Zone Conversion:**\n",
    "   Load a dataset with a DatetimeIndex in one timezone (e.g., UTC) and convert it to another timezone (e.g., US/Eastern)."
   ]
  },
  {
   "cell_type": "code",
   "execution_count": null,
   "metadata": {},
   "outputs": [],
   "source": []
  },
  {
   "cell_type": "markdown",
   "metadata": {},
   "source": [
    "8. **Time Resampling with Custom Functions:**\n",
    "    Given a DataFrame with a DatetimeIndex containing hourly stock price data, resample the data to calculate the maximum price for each week and the minimum price for each month."
   ]
  },
  {
   "cell_type": "code",
   "execution_count": null,
   "metadata": {},
   "outputs": [],
   "source": []
  }
 ],
 "metadata": {
  "kernelspec": {
   "display_name": "base",
   "language": "python",
   "name": "python3"
  },
  "language_info": {
   "codemirror_mode": {
    "name": "ipython",
    "version": 3
   },
   "file_extension": ".py",
   "mimetype": "text/x-python",
   "name": "python",
   "nbconvert_exporter": "python",
   "pygments_lexer": "ipython3",
   "version": "3.9.16"
  },
  "orig_nbformat": 4
 },
 "nbformat": 4,
 "nbformat_minor": 2
}
