{
 "cells": [
  {
   "cell_type": "code",
   "execution_count": null,
   "metadata": {},
   "outputs": [],
   "source": [
    "import pandas as pd\n",
    "import datetime\n",
    "import numpy as np"
   ]
  },
  {
   "cell_type": "markdown",
   "metadata": {},
   "source": [
    "1. **Create a DatetimeIndex:**\n",
    "   Create a DatetimeIndex representing all the days in January 2023."
   ]
  },
  {
   "cell_type": "code",
   "execution_count": null,
   "metadata": {},
   "outputs": [],
   "source": [
    "start_date = '2023-01-01'\n",
    "end_date = '2023-01-31'\n",
    "\n",
    "# Create a DatetimeIndex for all the days in January 2023\n",
    "date_index = pd.date_range(start=start_date, end=end_date)\n",
    "\n",
    "# Display the DatetimeIndex\n",
    "print(date_index)"
   ]
  },
  {
   "cell_type": "markdown",
   "metadata": {},
   "source": [
    "2. **Resample Time Series Data:**\n",
    "   Download historical stock price data for a company (e.g., AAPL) from a source like Yahoo Finance, and create a DataFrame with a DatetimeIndex. Then, resample the data to calculate the monthly average closing prices."
   ]
  },
  {
   "cell_type": "code",
   "execution_count": null,
   "metadata": {},
   "outputs": [],
   "source": [
    "import yfinance as yf\n",
    "import pandas as pd\n",
    "\n",
    "# Define the stock symbol and the date range\n",
    "stock_symbol = \"AAPL\"\n",
    "start_date = \"2020-01-01\"\n",
    "end_date = \"2021-12-31\"\n",
    "\n",
    "# Download historical stock price data from Yahoo Finance\n",
    "stock_data = yf.download(stock_symbol, start=start_date, end=end_date)\n",
    "\n",
    "# Create a DataFrame with a DatetimeIndex\n",
    "df = pd.DataFrame(stock_data)\n",
    "print (df)\n",
    "\n",
    "# Resample the data to calculate the monthly average closing prices\n",
    "monthly_avg_closing_prices = df['Adj Close'].resample('M').mean()\n",
    "\n",
    "# Display the monthly average closing prices\n",
    "print(monthly_avg_closing_prices)\n"
   ]
  },
  {
   "cell_type": "markdown",
   "metadata": {},
   "source": [
    "3. **Slicing Time Series Data:**\n",
    "   Given a DataFrame with a DatetimeIndex containing daily temperature data, slice the data to select only the temperatures recorded in the month of July."
   ]
  },
  {
   "cell_type": "code",
   "execution_count": null,
   "metadata": {},
   "outputs": [],
   "source": [
    "# Create a DatetimeIndex for daily data\n",
    "date_rng = pd.date_range(start='2023-01-01', end='2023-12-31', freq='D')\n",
    "\n",
    "# Create a DataFrame with daily temperature data\n",
    "np.random.seed(0)\n",
    "temperature_data = np.random.randint(20, 28, size=len(date_rng))\n",
    "temperature_df = pd.DataFrame({'Temperature': temperature_data}, index=date_rng)\n",
    "\n",
    "# Slice the data for temperatures recorded in July\n",
    "july_temperatures = temperature_df['2023-07']\n",
    "\n",
    "# Display the temperatures recorded in July\n",
    "print(july_temperatures)"
   ]
  },
  {
   "cell_type": "markdown",
   "metadata": {},
   "source": [
    "4. **Time-Based Filtering:**\n",
    "   Load a dataset containing timestamped user activity data (e.g., login/logout times). Use the DatetimeIndex to filter and count the number of user logins that occurred during a specific time period (e.g., between 9:00 AM and 5:00 PM)."
   ]
  },
  {
   "cell_type": "code",
   "execution_count": null,
   "metadata": {},
   "outputs": [],
   "source": [
    "data = {\n",
    "    'Timestamp': ['2023-09-05 08:30:45', '2023-09-05 10:15:30', '2023-09-05 12:30:00', '2023-09-05 16:45:20', '2023-09-05 18:20:10'],\n",
    "    'Action': ['Login', 'Logout', 'Login', 'Login', 'Logout']\n",
    "}\n",
    "\n",
    "# Convert the 'Timestamp' column to a datetime datatype and set it as the index\n",
    "df = pd.DataFrame(data)\n",
    "df['Timestamp'] = pd.to_datetime(df['Timestamp'])\n",
    "df.set_index('Timestamp', inplace=True)\n",
    "\n",
    "# Define the time period for counting logins (e.g., 9:00 AM to 5:00 PM)\n",
    "start_time = '09:00:00'\n",
    "end_time = '17:00:00'\n",
    "\n",
    "# Filter the DataFrame for logins within the specified time period\n",
    "login_subset = df.between_time(start_time, end_time)[df['Action'] == 'Login']\n",
    "\n",
    "# Count the number of logins within the time period\n",
    "login_count = len(login_subset)\n",
    "\n",
    "# Display the filtered subset and login count\n",
    "print(\"Filtered User Logins:\")\n",
    "print(login_subset)\n",
    "\n",
    "print(\"\\nNumber of User Logins in the Specified Time Period:\", login_count)"
   ]
  },
  {
   "cell_type": "markdown",
   "metadata": {},
   "source": [
    "5. **Time Shifting:**\n",
    "   Take a DataFrame with a DatetimeIndex containing stock price data and shift the closing prices forward by one day. Calculate the percentage change in prices after the shift."
   ]
  },
  {
   "cell_type": "code",
   "execution_count": null,
   "metadata": {},
   "outputs": [],
   "source": [
    "# Create a sample DataFrame with a DatetimeIndex containing stock price data\n",
    "date_rng = pd.date_range(start='2023-09-01', end='2023-09-10', freq='D')\n",
    "closing_prices = np.random.randint(100, 200, size=len(date_rng))\n",
    "df = pd.DataFrame({'ClosingPrice': closing_prices}, index=date_rng)\n",
    "\n",
    "# Shift the closing prices forward by one day\n",
    "df['ClosingPriceShifted'] = df['ClosingPrice'].shift(periods=1)\n",
    "\n",
    "# Calculate the percentage change in prices after the shift\n",
    "df['PercentageChange'] = ((df['ClosingPrice'] - df['ClosingPriceShifted']) / df['ClosingPriceShifted']) * 100\n",
    "\n",
    "# Display the DataFrame\n",
    "print(df)"
   ]
  },
  {
   "cell_type": "markdown",
   "metadata": {},
   "source": [
    "6. **Grouping by Time Period:**\n",
    "   Load a dataset with timestamped sales transactions and use the DatetimeIndex to group the sales data by month and calculate the total sales amount for each month."
   ]
  },
  {
   "cell_type": "code",
   "execution_count": null,
   "metadata": {},
   "outputs": [],
   "source": [
    "# Create a sample DataFrame with timestamped sales transactions\n",
    "data = {\n",
    "    'Timestamp': ['2023-01-05 10:15:30', '2023-01-15 14:30:45', '2023-02-10 09:45:00', '2023-03-20 11:30:15', '2023-03-25 16:45:30'],\n",
    "    'SalesAmount': [100.50, 75.25, 120.75, 85.60, 150.30]\n",
    "}\n",
    "\n",
    "# Convert the 'Timestamp' column to a datetime datatype and set it as the index\n",
    "df = pd.DataFrame(data)\n",
    "df['Timestamp'] = pd.to_datetime(df['Timestamp'])\n",
    "df.set_index('Timestamp', inplace=True)\n",
    "\n",
    "# Group the sales data by month and calculate the total sales amount for each month\n",
    "monthly_sales = df.resample('M').sum()\n",
    "\n",
    "# Display the total sales amount for each month\n",
    "print(monthly_sales)"
   ]
  },
  {
   "cell_type": "markdown",
   "metadata": {},
   "source": [
    "7. **Time Zone Conversion:**\n",
    "   Load a dataset with a DatetimeIndex in one timezone (e.g., UTC) and convert it to another timezone (e.g., US/Eastern)."
   ]
  },
  {
   "cell_type": "code",
   "execution_count": null,
   "metadata": {},
   "outputs": [],
   "source": [
    "date_rng = pd.date_range(start='2023-09-01 12:00:00', end='2023-09-03 12:00:00', freq='H', tz='UTC')\n",
    "data = {'Value': np.random.randint(20, 50, len(date_rng))}\n",
    "df = pd.DataFrame(data, index=date_rng)\n",
    "\n",
    "# Display the original DataFrame\n",
    "print(\"Original DataFrame (in UTC timezone):\")\n",
    "\n",
    "df_us_eastern = df.tz_convert('US/Eastern')\n",
    "\n",
    "# Display the DataFrame with the DatetimeIndex in US/Eastern timezone\n",
    "print(\"\\nDataFrame with DatetimeIndex in US/Eastern timezone:\")\n",
    "print(df_us_eastern)"
   ]
  },
  {
   "cell_type": "markdown",
   "metadata": {},
   "source": [
    "8. **Time Resampling with Custom Functions:**\n",
    "    Given a DataFrame with a DatetimeIndex containing hourly stock price data, resample the data to calculate the maximum price for each week and the minimum price for each month."
   ]
  },
  {
   "cell_type": "code",
   "execution_count": null,
   "metadata": {},
   "outputs": [],
   "source": [
    "# Create a sample DataFrame with a DatetimeIndex containing hourly stock price data\n",
    "date_rng = pd.date_range(start='2023-09-01', end='2023-09-30', freq='H')\n",
    "stock_prices = np.random.randint(100, 200, size=len(date_rng)) + np.random.randn(len(date_rng))\n",
    "df = pd.DataFrame({'StockPrice': stock_prices}, index=date_rng)\n",
    "\n",
    "# Resample to calculate the maximum price for each week (W-MON) and the minimum price for each month (M)\n",
    "weekly_max_prices = df['StockPrice'].resample('W-MON').max()\n",
    "monthly_min_prices = df['StockPrice'].resample('M').min()\n",
    "\n",
    "# Display the maximum weekly prices and minimum monthly prices\n",
    "print(\"Maximum Weekly Prices:\")\n",
    "print(weekly_max_prices)\n",
    "\n",
    "print(\"\\nMinimum Monthly Prices:\")\n",
    "print(monthly_min_prices)"
   ]
  }
 ],
 "metadata": {
  "kernelspec": {
   "display_name": "base",
   "language": "python",
   "name": "python3"
  },
  "language_info": {
   "codemirror_mode": {
    "name": "ipython",
    "version": 3
   },
   "file_extension": ".py",
   "mimetype": "text/x-python",
   "name": "python",
   "nbconvert_exporter": "python",
   "pygments_lexer": "ipython3",
   "version": "3.9.16"
  },
  "orig_nbformat": 4
 },
 "nbformat": 4,
 "nbformat_minor": 2
}
