{
 "cells": [
  {
   "cell_type": "code",
   "execution_count": 1,
   "metadata": {},
   "outputs": [],
   "source": [
    "import pandas as pd"
   ]
  },
  {
   "cell_type": "markdown",
   "metadata": {},
   "source": [
    "### 1. \n",
    "Given a list, output the corresponding pandas series"
   ]
  },
  {
   "cell_type": "code",
   "execution_count": null,
   "metadata": {},
   "outputs": [],
   "source": []
  },
  {
   "cell_type": "markdown",
   "metadata": {},
   "source": [
    "### 2.\n",
    "\n",
    "Given a series, output the corresponding pandas series with odd indexes only"
   ]
  },
  {
   "cell_type": "code",
   "execution_count": null,
   "metadata": {},
   "outputs": [],
   "source": []
  },
  {
   "cell_type": "markdown",
   "metadata": {},
   "source": [
    "### 3.\n",
    "\n",
    "Generate the series of dates from 1st May, 2021 to 12th May, 2021 (both inclusive)"
   ]
  },
  {
   "cell_type": "code",
   "execution_count": null,
   "metadata": {},
   "outputs": [],
   "source": []
  },
  {
   "cell_type": "markdown",
   "metadata": {},
   "source": [
    "### 4.\n",
    "\n",
    "Apply the function, f(x) = x/2 on each and every element of a given pandas series"
   ]
  },
  {
   "cell_type": "code",
   "execution_count": null,
   "metadata": {},
   "outputs": [],
   "source": []
  },
  {
   "cell_type": "markdown",
   "metadata": {},
   "source": [
    "### 5.\n",
    "\n",
    "Given a dictionary, convert it into corresponding dataframe and display it"
   ]
  },
  {
   "cell_type": "code",
   "execution_count": null,
   "metadata": {},
   "outputs": [],
   "source": []
  },
  {
   "cell_type": "markdown",
   "metadata": {},
   "source": [
    "### 6.\n",
    "\n",
    "Given a 2D List, convert it into corresponding dataframe and display it"
   ]
  },
  {
   "cell_type": "code",
   "execution_count": null,
   "metadata": {},
   "outputs": [],
   "source": [
    "lists = [[1, 'Kati', 30],\n",
    "         [2, 'Anna', 33],\n",
    "         [3, 'Emma', 36]]"
   ]
  },
  {
   "cell_type": "markdown",
   "metadata": {},
   "source": [
    "### 7.\n",
    "\n",
    "Given a data.csv file, read it into a dataframe and display it"
   ]
  },
  {
   "cell_type": "code",
   "execution_count": null,
   "metadata": {},
   "outputs": [],
   "source": []
  },
  {
   "cell_type": "markdown",
   "metadata": {},
   "source": [
    "### 8.\n",
    "\n",
    "Import the data.csv and change the index of a dataframe from the default indexes to a particular id column"
   ]
  },
  {
   "cell_type": "code",
   "execution_count": null,
   "metadata": {},
   "outputs": [],
   "source": []
  },
  {
   "cell_type": "markdown",
   "metadata": {},
   "source": [
    "### 9.\n",
    "\n",
    "Import the data.csv (say, with custom indexing), sort it by it's index"
   ]
  },
  {
   "cell_type": "code",
   "execution_count": null,
   "metadata": {},
   "outputs": [],
   "source": []
  },
  {
   "cell_type": "markdown",
   "metadata": {},
   "source": [
    "### 10.\n",
    "\n",
    "Import the data.csv, sort it by multiple columns"
   ]
  },
  {
   "cell_type": "code",
   "execution_count": null,
   "metadata": {},
   "outputs": [],
   "source": []
  },
  {
   "cell_type": "markdown",
   "metadata": {},
   "source": [
    "### 11.\n",
    "\n",
    "Import the data.csv, add custom index, set to default indexing and display it"
   ]
  },
  {
   "cell_type": "code",
   "execution_count": null,
   "metadata": {},
   "outputs": [],
   "source": []
  },
  {
   "cell_type": "markdown",
   "metadata": {},
   "source": [
    "### 12.\n",
    "\n",
    "Import the data.csv and select the name column and display it"
   ]
  },
  {
   "cell_type": "code",
   "execution_count": null,
   "metadata": {},
   "outputs": [],
   "source": []
  },
  {
   "cell_type": "markdown",
   "metadata": {},
   "source": [
    "### 13.\n",
    "\n",
    "Import the data csv, select first 2 rows and output them"
   ]
  },
  {
   "cell_type": "code",
   "execution_count": null,
   "metadata": {},
   "outputs": [],
   "source": []
  },
  {
   "cell_type": "markdown",
   "metadata": {},
   "source": [
    "### 14.\n",
    "\n",
    "Import the data csv, select rows with age greater than or equal to 24"
   ]
  },
  {
   "cell_type": "code",
   "execution_count": null,
   "metadata": {},
   "outputs": [],
   "source": []
  },
  {
   "cell_type": "markdown",
   "metadata": {},
   "source": [
    "### 15.\n",
    "\n",
    "Given is a dataframe showing name, occupation, salary of people. Find the average salary per occupation\n",
    "\n",
    "```\n",
    "     name       occ  salary\n",
    "0   Kati  engineer   60000\n",
    "1   Anna    doctor   70000\n",
    "2   Emma  engineer   50000\n",
    "3   Kitti   doctor   60000\n",
    "4   Lotti   doctor   65000\n",
    "```"
   ]
  },
  {
   "cell_type": "code",
   "execution_count": null,
   "metadata": {},
   "outputs": [],
   "source": []
  },
  {
   "cell_type": "markdown",
   "metadata": {},
   "source": [
    "### 16.\n",
    "\n",
    "Given a dataframe with NaN Values, fill the NaN values with 0\n",
    "\n",
    "```\n",
    "     name       occ  salary\n",
    "0   Kati  engineer   60000\n",
    "1   Anna    doctor   Nan\n",
    "2   Emma  engineer   50000\n",
    "3   Kitti   doctor   Nan\n",
    "4   Lotti   doctor   65000\n",
    "```"
   ]
  },
  {
   "cell_type": "code",
   "execution_count": null,
   "metadata": {},
   "outputs": [],
   "source": []
  },
  {
   "cell_type": "markdown",
   "metadata": {},
   "source": [
    "### 17.\n",
    "\n",
    "Given is a dataframe showing Company Names (cname) and corresponding Profits (profit). Convert the values of Profit column such that values in it greater than 0 are set to True and the rest are set to False.\n",
    "\n",
    "```\n",
    "                cname  profit\n",
    "0     Banana Republic  -10000\n",
    "1               Apple   10000\n",
    "2              Orange   -5000\n",
    "```"
   ]
  },
  {
   "cell_type": "code",
   "execution_count": null,
   "metadata": {},
   "outputs": [],
   "source": [
    "\n"
   ]
  },
  {
   "cell_type": "markdown",
   "metadata": {},
   "source": [
    "### 18.\n",
    "\n",
    "Given are 2 dataframes, with one dataframe containing Employee ID (eid), Employee Name (ename) and Stipend (stipend) and the other dataframe containing Employee ID (eid) and designation of the employee (designation). Output the Dataframe containing Employee ID (eid), Employee Name (ename), Stipend (stipend) and Position (position).\n",
    "\n",
    "```\n",
    "   eid   ename  stipend\n",
    "0    1     Sid    10000\n",
    "1    2     Tom    10000\n",
    "2    3     Ron     5000\n",
    "3    4   Harry    15000\n",
    "\n",
    "   eid         position\n",
    "0    1         employee\n",
    "1    2         employee\n",
    "2    3           intern\n",
    "3    4  senior_employee\n",
    "\n",
    "   eid   ename  stipend         position\n",
    "0    1     Sid    10000         employee\n",
    "1    2     Tom    10000         employee\n",
    "2    3     Ron     5000           intern\n",
    "3    4   Harry    15000  senior_employee\n",
    "```"
   ]
  },
  {
   "cell_type": "code",
   "execution_count": null,
   "metadata": {},
   "outputs": [],
   "source": []
  },
  {
   "cell_type": "markdown",
   "metadata": {},
   "source": [
    "### 19.\n",
    "\n",
    "Given a dataframe, output the non-null count and data-type for every column\n",
    "\n",
    "```\n",
    "eid   ename  stipend         position\n",
    "0    1     Sid    10000         employee\n",
    "1    2     Tom    10000         employee\n",
    "2    3     Ron     5000           intern\n",
    "3    4   Harry    15000  senior_employee\n",
    "```"
   ]
  },
  {
   "cell_type": "code",
   "execution_count": null,
   "metadata": {},
   "outputs": [],
   "source": []
  },
  {
   "cell_type": "markdown",
   "metadata": {},
   "source": [
    "### 20.\n",
    "\n",
    "Given a dataframe, generate the statistical summary of all the numerical features present in it\n",
    "\n",
    "```\n",
    "   eid   ename  stipend         position\n",
    "0    1     Sid    10000         employee\n",
    "1    2  Ramesh    10000         employee\n",
    "2    3     Ron     5000           intern\n",
    "3    4   Harry    15000  senior_employee\n",
    "\n",
    "            eid       stipend\n",
    "count  4.000000      4.000000\n",
    "mean   2.500000  10000.000000\n",
    "std    1.290994   4082.482905\n",
    "min    1.000000   5000.000000\n",
    "25%    1.750000   8750.000000\n",
    "50%    2.500000  10000.000000\n",
    "75%    3.250000  11250.000000\n",
    "max    4.000000  15000.000000\n",
    "```"
   ]
  },
  {
   "cell_type": "code",
   "execution_count": null,
   "metadata": {},
   "outputs": [],
   "source": []
  }
 ],
 "metadata": {
  "kernelspec": {
   "display_name": "base",
   "language": "python",
   "name": "python3"
  },
  "language_info": {
   "codemirror_mode": {
    "name": "ipython",
    "version": 3
   },
   "file_extension": ".py",
   "mimetype": "text/x-python",
   "name": "python",
   "nbconvert_exporter": "python",
   "pygments_lexer": "ipython3",
   "version": "3.9.16"
  },
  "orig_nbformat": 4
 },
 "nbformat": 4,
 "nbformat_minor": 2
}
