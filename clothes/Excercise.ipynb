{
 "cells": [
  {
   "cell_type": "markdown",
   "metadata": {},
   "source": [
    "### 1. Load\n",
    "\n",
    "Load the clothes.csv and assign to a dataframe variable\n",
    "\n",
    "| Column Name | Description                   |\n",
    "|-------------|-------------------------------|\n",
    "| Date        | Date of transaction           |\n",
    "| Region      | The region of the transaction |\n",
    "| Type        | The type of clothing sold     |\n",
    "| Units       | The number of units sold      |\n",
    "| Sales       | The cost of the sale          |"
   ]
  },
  {
   "cell_type": "code",
   "execution_count": 7,
   "metadata": {},
   "outputs": [
    {
     "data": {
      "text/html": [
       "<div>\n",
       "<style scoped>\n",
       "    .dataframe tbody tr th:only-of-type {\n",
       "        vertical-align: middle;\n",
       "    }\n",
       "\n",
       "    .dataframe tbody tr th {\n",
       "        vertical-align: top;\n",
       "    }\n",
       "\n",
       "    .dataframe thead th {\n",
       "        text-align: right;\n",
       "    }\n",
       "</style>\n",
       "<table border=\"1\" class=\"dataframe\">\n",
       "  <thead>\n",
       "    <tr style=\"text-align: right;\">\n",
       "      <th></th>\n",
       "      <th>Unnamed: 0</th>\n",
       "      <th>Date</th>\n",
       "      <th>Region</th>\n",
       "      <th>Type</th>\n",
       "      <th>Units</th>\n",
       "      <th>Sales</th>\n",
       "    </tr>\n",
       "  </thead>\n",
       "  <tbody>\n",
       "    <tr>\n",
       "      <th>0</th>\n",
       "      <td>0</td>\n",
       "      <td>2020-07-11</td>\n",
       "      <td>East</td>\n",
       "      <td>Children's Clothing</td>\n",
       "      <td>18.0</td>\n",
       "      <td>306</td>\n",
       "    </tr>\n",
       "    <tr>\n",
       "      <th>1</th>\n",
       "      <td>1</td>\n",
       "      <td>2020-09-23</td>\n",
       "      <td>North</td>\n",
       "      <td>Children's Clothing</td>\n",
       "      <td>14.0</td>\n",
       "      <td>448</td>\n",
       "    </tr>\n",
       "    <tr>\n",
       "      <th>2</th>\n",
       "      <td>2</td>\n",
       "      <td>2020-04-02</td>\n",
       "      <td>South</td>\n",
       "      <td>Women's Clothing</td>\n",
       "      <td>17.0</td>\n",
       "      <td>425</td>\n",
       "    </tr>\n",
       "    <tr>\n",
       "      <th>3</th>\n",
       "      <td>3</td>\n",
       "      <td>2020-02-28</td>\n",
       "      <td>East</td>\n",
       "      <td>Children's Clothing</td>\n",
       "      <td>26.0</td>\n",
       "      <td>832</td>\n",
       "    </tr>\n",
       "    <tr>\n",
       "      <th>4</th>\n",
       "      <td>4</td>\n",
       "      <td>2020-03-19</td>\n",
       "      <td>West</td>\n",
       "      <td>Women's Clothing</td>\n",
       "      <td>3.0</td>\n",
       "      <td>33</td>\n",
       "    </tr>\n",
       "    <tr>\n",
       "      <th>...</th>\n",
       "      <td>...</td>\n",
       "      <td>...</td>\n",
       "      <td>...</td>\n",
       "      <td>...</td>\n",
       "      <td>...</td>\n",
       "      <td>...</td>\n",
       "    </tr>\n",
       "    <tr>\n",
       "      <th>995</th>\n",
       "      <td>995</td>\n",
       "      <td>2020-02-11</td>\n",
       "      <td>East</td>\n",
       "      <td>Children's Clothing</td>\n",
       "      <td>35.0</td>\n",
       "      <td>735</td>\n",
       "    </tr>\n",
       "    <tr>\n",
       "      <th>996</th>\n",
       "      <td>996</td>\n",
       "      <td>2020-12-25</td>\n",
       "      <td>North</td>\n",
       "      <td>Men's Clothing</td>\n",
       "      <td>NaN</td>\n",
       "      <td>1155</td>\n",
       "    </tr>\n",
       "    <tr>\n",
       "      <th>997</th>\n",
       "      <td>997</td>\n",
       "      <td>2020-08-31</td>\n",
       "      <td>South</td>\n",
       "      <td>Men's Clothing</td>\n",
       "      <td>13.0</td>\n",
       "      <td>208</td>\n",
       "    </tr>\n",
       "    <tr>\n",
       "      <th>998</th>\n",
       "      <td>998</td>\n",
       "      <td>2020-08-23</td>\n",
       "      <td>South</td>\n",
       "      <td>Women's Clothing</td>\n",
       "      <td>17.0</td>\n",
       "      <td>493</td>\n",
       "    </tr>\n",
       "    <tr>\n",
       "      <th>999</th>\n",
       "      <td>999</td>\n",
       "      <td>2020-08-17</td>\n",
       "      <td>North</td>\n",
       "      <td>Women's Clothing</td>\n",
       "      <td>25.0</td>\n",
       "      <td>300</td>\n",
       "    </tr>\n",
       "  </tbody>\n",
       "</table>\n",
       "<p>1000 rows × 6 columns</p>\n",
       "</div>"
      ],
      "text/plain": [
       "     Unnamed: 0        Date Region                 Type  Units  Sales\n",
       "0             0  2020-07-11   East  Children's Clothing   18.0    306\n",
       "1             1  2020-09-23  North  Children's Clothing   14.0    448\n",
       "2             2  2020-04-02  South     Women's Clothing   17.0    425\n",
       "3             3  2020-02-28   East  Children's Clothing   26.0    832\n",
       "4             4  2020-03-19   West     Women's Clothing    3.0     33\n",
       "..          ...         ...    ...                  ...    ...    ...\n",
       "995         995  2020-02-11   East  Children's Clothing   35.0    735\n",
       "996         996  2020-12-25  North       Men's Clothing    NaN   1155\n",
       "997         997  2020-08-31  South       Men's Clothing   13.0    208\n",
       "998         998  2020-08-23  South     Women's Clothing   17.0    493\n",
       "999         999  2020-08-17  North     Women's Clothing   25.0    300\n",
       "\n",
       "[1000 rows x 6 columns]"
      ]
     },
     "execution_count": 7,
     "metadata": {},
     "output_type": "execute_result"
    }
   ],
   "source": [
    "import pandas as pd\n",
    "df = pd.read_csv('clothes.csv')\n",
    "df"
   ]
  },
  {
   "cell_type": "markdown",
   "metadata": {},
   "source": [
    "### 2. create \n",
    "Create a sales_by_region pivot table with region index and sales and units as values\n"
   ]
  },
  {
   "cell_type": "code",
   "execution_count": 12,
   "metadata": {},
   "outputs": [
    {
     "name": "stdout",
     "output_type": "stream",
     "text": [
      "             Sales      Units\n",
      "Region                       \n",
      "East    408.182482  19.732360\n",
      "North   438.924051  19.202643\n",
      "South   432.956204  20.423358\n",
      "West    452.029412  19.294118\n"
     ]
    }
   ],
   "source": [
    "\n",
    "#Expected output:\n",
    "\n",
    "#              Sales      Units\n",
    "# Region                       \n",
    "# East    408.182482  19.732360\n",
    "# North   438.924051  19.202643\n",
    "# South   432.956204  20.423358\n",
    "# West    452.029412  19.29411\n",
    "\n",
    "pivot = pd.pivot_table(\n",
    "    data=df,\n",
    "    index='Region',\n",
    "    values =[\"Sales\", \"Units\"]\n",
    ")\n",
    "print(pivot)"
   ]
  },
  {
   "cell_type": "markdown",
   "metadata": {},
   "source": [
    "### 3. \n",
    "\n",
    "Specifying Aggregation Method in a Pandas Pivot Table\n",
    "Produce the sum of our sales across all regions\n"
   ]
  },
  {
   "cell_type": "code",
   "execution_count": 13,
   "metadata": {},
   "outputs": [
    {
     "name": "stdout",
     "output_type": "stream",
     "text": [
      "         Sales   Units  Unnamed: 0\n",
      "Region                            \n",
      "East    167763  8110.0      200657\n",
      "North   138700  4359.0      158885\n",
      "South    59315  2798.0       71474\n",
      "West     61476  2624.0       68484\n"
     ]
    }
   ],
   "source": [
    "# Specifying the Aggregation Function\n",
    "pivot = pd.pivot_table(\n",
    "    data=df,\n",
    "    index='Region',\n",
    "    aggfunc='sum'\n",
    ")\n",
    "\n",
    "print(pivot)\n",
    "\n",
    "# Expected:\n",
    "#          Sales   Units\n",
    "# Region                \n",
    "# East    167763  8110.0\n",
    "# North   138700  4359.0\n",
    "# South    59315  2798.0\n",
    "# West     61476  2624.0"
   ]
  },
  {
   "cell_type": "markdown",
   "metadata": {},
   "source": [
    "### 4. \n",
    "\n",
    "Multiple Aggregation Method in a Pandas DataFrame\n",
    "Let’s produce aggregations for both the mean and the sum:\n"
   ]
  },
  {
   "cell_type": "code",
   "execution_count": 14,
   "metadata": {},
   "outputs": [
    {
     "name": "stdout",
     "output_type": "stream",
     "text": [
      "              mean                            sum                   \n",
      "             Sales      Units  Unnamed: 0   Sales   Units Unnamed: 0\n",
      "Region                                                              \n",
      "East    408.182482  19.732360  488.216545  167763  8110.0     200657\n",
      "North   438.924051  19.202643  502.800633  138700  4359.0     158885\n",
      "South   432.956204  20.423358  521.708029   59315  2798.0      71474\n",
      "West    452.029412  19.294118  503.558824   61476  2624.0      68484\n"
     ]
    }
   ],
   "source": [
    "pivot = pd.pivot_table(\n",
    "    data=df,\n",
    "    index='Region',\n",
    "    aggfunc=['mean', 'sum']\n",
    ")\n",
    "\n",
    "print(pivot)\n",
    "\n",
    "# Expected:\n",
    "#               mean                sum        \n",
    "#              Sales      Units   Sales   Units\n",
    "# Region                                       \n",
    "# East    408.182482  19.732360  167763  8110.0\n",
    "# North   438.924051  19.202643  138700  4359.0\n",
    "# South   432.956204  20.423358   59315  2798.0\n",
    "# West    452.029412  19.294118   61476  2624.0"
   ]
  },
  {
   "cell_type": "markdown",
   "metadata": {},
   "source": [
    "### 5. \n",
    "Different Aggregations Per Column \n",
    "Calculate the sum of units and the average number of sales:"
   ]
  },
  {
   "cell_type": "code",
   "execution_count": 17,
   "metadata": {},
   "outputs": [
    {
     "name": "stdout",
     "output_type": "stream",
     "text": [
      "        Sales(mean)  Units(sum)\n",
      "Region                         \n",
      "East     408.182482      8110.0\n",
      "North    438.924051      4359.0\n",
      "South    432.956204      2798.0\n",
      "West     452.029412      2624.0\n"
     ]
    }
   ],
   "source": [
    "pivot = pd.pivot_table(\n",
    "    data=df,\n",
    "    index='Region',\n",
    "    aggfunc={'Sales': 'mean', 'Units': 'sum'}\n",
    ")\n",
    "pivot.columns = [\"Sales(mean)\", \"Units(sum)\"]\n",
    "\n",
    "print(pivot)\n",
    "\n",
    "# Expected:\n",
    "#        Sales(mean)  Units(sum)\n",
    "# Region                    \n",
    "# East    408.182482      8110.0\n",
    "# North   438.924051      4359.0\n",
    "# South   432.956204      2798.0\n",
    "# West    452.029412      2624.0"
   ]
  }
 ],
 "metadata": {
  "kernelspec": {
   "display_name": "base",
   "language": "python",
   "name": "python3"
  },
  "language_info": {
   "codemirror_mode": {
    "name": "ipython",
    "version": 3
   },
   "file_extension": ".py",
   "mimetype": "text/x-python",
   "name": "python",
   "nbconvert_exporter": "python",
   "pygments_lexer": "ipython3",
   "version": "3.9.16"
  },
  "orig_nbformat": 4
 },
 "nbformat": 4,
 "nbformat_minor": 2
}
