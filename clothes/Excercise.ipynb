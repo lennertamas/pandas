{
 "cells": [
  {
   "cell_type": "markdown",
   "metadata": {},
   "source": [
    "### 1. Load\n",
    "\n",
    "Load the clothes.csv and assign to a dataframe variable\n",
    "\n",
    "| Column Name | Description                   |\n",
    "|-------------|-------------------------------|\n",
    "| Date        | Date of transaction           |\n",
    "| Region      | The region of the transaction |\n",
    "| Type        | The type of clothing sold     |\n",
    "| Units       | The number of units sold      |\n",
    "| Sales       | The cost of the sale          |"
   ]
  },
  {
   "cell_type": "code",
   "execution_count": null,
   "metadata": {},
   "outputs": [],
   "source": []
  },
  {
   "cell_type": "markdown",
   "metadata": {},
   "source": [
    "### 2. create \n",
    "Create a sales_by_region pivot table with region index and sales and units as values\n"
   ]
  },
  {
   "cell_type": "code",
   "execution_count": null,
   "metadata": {},
   "outputs": [],
   "source": [
    "\n",
    "#Expected output:\n",
    "\n",
    "#              Sales      Units\n",
    "# Region                       \n",
    "# East    408.182482  19.732360\n",
    "# North   438.924051  19.202643\n",
    "# South   432.956204  20.423358\n",
    "# West    452.029412  19.29411\n"
   ]
  },
  {
   "cell_type": "markdown",
   "metadata": {},
   "source": [
    "### 3. \n",
    "\n",
    "Specifying Aggregation Method in a Pandas Pivot Table\n",
    "Produce the sum of our sales across all regions\n"
   ]
  },
  {
   "cell_type": "code",
   "execution_count": null,
   "metadata": {},
   "outputs": [],
   "source": [
    "# Specifying the Aggregation Function\n",
    "pivot = pd.pivot_table(\n",
    "    data=df,\n",
    "    index='Region',\n",
    "    aggfunc='sum'\n",
    ")\n",
    "\n",
    "print(pivot)\n",
    "\n",
    "# Expected:\n",
    "#          Sales   Units\n",
    "# Region                \n",
    "# East    167763  8110.0\n",
    "# North   138700  4359.0\n",
    "# South    59315  2798.0\n",
    "# West     61476  2624.0"
   ]
  },
  {
   "cell_type": "markdown",
   "metadata": {},
   "source": [
    "### 4. \n",
    "\n",
    "Multiple Aggregation Method in a Pandas DataFrame\n",
    "Let’s produce aggregations for both the mean and the sum:\n"
   ]
  },
  {
   "cell_type": "code",
   "execution_count": null,
   "metadata": {},
   "outputs": [],
   "source": [
    "\n",
    "# Expected:\n",
    "#               mean                sum        \n",
    "#              Sales      Units   Sales   Units\n",
    "# Region                                       \n",
    "# East    408.182482  19.732360  167763  8110.0\n",
    "# North   438.924051  19.202643  138700  4359.0\n",
    "# South   432.956204  20.423358   59315  2798.0\n",
    "# West    452.029412  19.294118   61476  2624.0"
   ]
  },
  {
   "cell_type": "markdown",
   "metadata": {},
   "source": [
    "### 5. \n",
    "Different Aggregations Per Column \n",
    "Calculate the sum of units and the average number of sales:"
   ]
  },
  {
   "cell_type": "code",
   "execution_count": null,
   "metadata": {},
   "outputs": [],
   "source": [
    "\n",
    "# Expected:\n",
    "#        Sales(mean)  Units(sum)\n",
    "# Region                    \n",
    "# East    408.182482      8110.0\n",
    "# North   438.924051      4359.0\n",
    "# South   432.956204      2798.0\n",
    "# West    452.029412      2624.0"
   ]
  },
  {
   "cell_type": "markdown",
   "metadata": {},
   "source": [
    "### 6. \n",
    "\n",
    "Split the data into different columns are delivered by the Type column."
   ]
  },
  {
   "cell_type": "markdown",
   "metadata": {},
   "source": []
  },
  {
   "cell_type": "code",
   "execution_count": null,
   "metadata": {},
   "outputs": [],
   "source": [
    "print(pivot)\n",
    "\n",
    "# Expected:\n",
    "# Type    Children's Clothing  Men's Clothing  Women's Clothing\n",
    "# Region                                                       \n",
    "# East             405.743363      423.647541        399.028409\n",
    "# North            438.894118      449.157303        432.528169\n",
    "# South            412.666667      475.435897        418.924528\n",
    "# West             480.523810      465.292683        419.188679"
   ]
  },
  {
   "cell_type": "markdown",
   "metadata": {},
   "source": [
    "### 7. \n",
    "Create multiple index. \n",
    "\n",
    "auto_awesome\n",
    "Next to the regions, display the period of sales broken down by quarter of years"
   ]
  },
  {
   "cell_type": "code",
   "execution_count": null,
   "metadata": {},
   "outputs": [],
   "source": [
    "# Expected:\n",
    "# Type         Children's Clothing  Men's Clothing  Women's Clothing\n",
    "# Region Date                                                       \n",
    "# East   1              423.241379      369.250000        428.948718\n",
    "#        2              274.800000      445.425000        456.816327\n",
    "#        3              425.382353      506.421053        342.386364\n",
    "#        4              453.866667      405.666667        364.795455\n",
    "# North  1              394.727273      450.869565        489.944444"
   ]
  },
  {
   "cell_type": "markdown",
   "metadata": {},
   "source": [
    "### 8. \n",
    "\n",
    "List only the intersection of East Region, Quarter 2, and Women’s clothing"
   ]
  },
  {
   "cell_type": "code",
   "execution_count": null,
   "metadata": {},
   "outputs": [],
   "source": []
  },
  {
   "cell_type": "markdown",
   "metadata": {},
   "source": [
    "### 9. \n",
    "\n",
    "Add totals to pivot table. Total column and row should be named as Total"
   ]
  },
  {
   "cell_type": "code",
   "execution_count": null,
   "metadata": {},
   "outputs": [],
   "source": []
  }
 ],
 "metadata": {
  "kernelspec": {
   "display_name": "base",
   "language": "python",
   "name": "python3"
  },
  "language_info": {
   "codemirror_mode": {
    "name": "ipython",
    "version": 3
   },
   "file_extension": ".py",
   "mimetype": "text/x-python",
   "name": "python",
   "nbconvert_exporter": "python",
   "pygments_lexer": "ipython3",
   "version": "3.9.16"
  },
  "orig_nbformat": 4
 },
 "nbformat": 4,
 "nbformat_minor": 2
}
