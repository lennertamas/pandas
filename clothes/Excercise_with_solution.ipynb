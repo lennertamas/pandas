{
 "cells": [
  {
   "cell_type": "markdown",
   "metadata": {},
   "source": [
    "### 1. Load\n",
    "\n",
    "Load the clothes.csv and assign to a dataframe variable\n",
    "\n",
    "| Column Name | Description                   |\n",
    "|-------------|-------------------------------|\n",
    "| Date        | Date of transaction           |\n",
    "| Region      | The region of the transaction |\n",
    "| Type        | The type of clothing sold     |\n",
    "| Units       | The number of units sold      |\n",
    "| Sales       | The cost of the sale          |"
   ]
  },
  {
   "cell_type": "code",
   "execution_count": 47,
   "metadata": {},
   "outputs": [
    {
     "data": {
      "text/plain": [
       "Unnamed: 0             int64\n",
       "Date          datetime64[ns]\n",
       "Region                object\n",
       "Type                  object\n",
       "Units                float64\n",
       "Sales                  int64\n",
       "dtype: object"
      ]
     },
     "execution_count": 47,
     "metadata": {},
     "output_type": "execute_result"
    }
   ],
   "source": [
    "import pandas as pd\n",
    "df = pd.read_csv('clothes.csv')\n",
    "df.dtypes"
   ]
  },
  {
   "cell_type": "markdown",
   "metadata": {},
   "source": [
    "### 2. create \n",
    "Create a sales_by_region pivot table with region index and sales and units as values\n"
   ]
  },
  {
   "cell_type": "code",
   "execution_count": 33,
   "metadata": {},
   "outputs": [
    {
     "name": "stdout",
     "output_type": "stream",
     "text": [
      "             Sales      Units\n",
      "Region                       \n",
      "East    408.182482  19.732360\n",
      "North   438.924051  19.202643\n",
      "South   432.956204  20.423358\n",
      "West    452.029412  19.294118\n"
     ]
    }
   ],
   "source": [
    "\n",
    "#Expected output:\n",
    "\n",
    "#              Sales      Units\n",
    "# Region                       \n",
    "# East    408.182482  19.732360\n",
    "# North   438.924051  19.202643\n",
    "# South   432.956204  20.423358\n",
    "# West    452.029412  19.29411\n",
    "\n",
    "pivot = pd.pivot_table(\n",
    "    data=df,\n",
    "    index='Region',\n",
    "    values =[\"Sales\", \"Units\"]\n",
    ")\n",
    "print(pivot)"
   ]
  },
  {
   "cell_type": "markdown",
   "metadata": {},
   "source": [
    "### 3. \n",
    "\n",
    "Specifying Aggregation Method in a Pandas Pivot Table\n",
    "Produce the sum of our sales across all regions\n"
   ]
  },
  {
   "cell_type": "code",
   "execution_count": 34,
   "metadata": {},
   "outputs": [
    {
     "name": "stdout",
     "output_type": "stream",
     "text": [
      "         Sales   Units  Unnamed: 0\n",
      "Region                            \n",
      "East    167763  8110.0      200657\n",
      "North   138700  4359.0      158885\n",
      "South    59315  2798.0       71474\n",
      "West     61476  2624.0       68484\n"
     ]
    }
   ],
   "source": [
    "# Specifying the Aggregation Function\n",
    "pivot = pd.pivot_table(\n",
    "    data=df,\n",
    "    index='Region',\n",
    "    aggfunc='sum'\n",
    ")\n",
    "\n",
    "print(pivot)\n",
    "\n",
    "# Expected:\n",
    "#          Sales   Units\n",
    "# Region                \n",
    "# East    167763  8110.0\n",
    "# North   138700  4359.0\n",
    "# South    59315  2798.0\n",
    "# West     61476  2624.0"
   ]
  },
  {
   "cell_type": "markdown",
   "metadata": {},
   "source": [
    "### 4. \n",
    "\n",
    "Multiple Aggregation Method in a Pandas DataFrame\n",
    "Let’s produce aggregations for both the mean and the sum:\n"
   ]
  },
  {
   "cell_type": "code",
   "execution_count": 35,
   "metadata": {},
   "outputs": [
    {
     "name": "stdout",
     "output_type": "stream",
     "text": [
      "              mean                            sum                   \n",
      "             Sales      Units  Unnamed: 0   Sales   Units Unnamed: 0\n",
      "Region                                                              \n",
      "East    408.182482  19.732360  488.216545  167763  8110.0     200657\n",
      "North   438.924051  19.202643  502.800633  138700  4359.0     158885\n",
      "South   432.956204  20.423358  521.708029   59315  2798.0      71474\n",
      "West    452.029412  19.294118  503.558824   61476  2624.0      68484\n"
     ]
    }
   ],
   "source": [
    "pivot = pd.pivot_table(\n",
    "    data=df,\n",
    "    index='Region',\n",
    "    aggfunc=['mean', 'sum']\n",
    ")\n",
    "\n",
    "print(pivot)\n",
    "\n",
    "# Expected:\n",
    "#               mean                sum        \n",
    "#              Sales      Units   Sales   Units\n",
    "# Region                                       \n",
    "# East    408.182482  19.732360  167763  8110.0\n",
    "# North   438.924051  19.202643  138700  4359.0\n",
    "# South   432.956204  20.423358   59315  2798.0\n",
    "# West    452.029412  19.294118   61476  2624.0"
   ]
  },
  {
   "cell_type": "markdown",
   "metadata": {},
   "source": [
    "### 5. \n",
    "Different Aggregations Per Column \n",
    "Calculate the sum of units and the average number of sales:"
   ]
  },
  {
   "cell_type": "code",
   "execution_count": 36,
   "metadata": {},
   "outputs": [
    {
     "name": "stdout",
     "output_type": "stream",
     "text": [
      "        Sales(mean)  Units(sum)\n",
      "Region                         \n",
      "East     408.182482      8110.0\n",
      "North    438.924051      4359.0\n",
      "South    432.956204      2798.0\n",
      "West     452.029412      2624.0\n"
     ]
    }
   ],
   "source": [
    "pivot = pd.pivot_table(\n",
    "    data=df,\n",
    "    index='Region',\n",
    "    aggfunc={'Sales': 'mean', 'Units': 'sum'}\n",
    ")\n",
    "pivot.columns = [\"Sales(mean)\", \"Units(sum)\"]\n",
    "\n",
    "print(pivot)\n",
    "\n",
    "# Expected:\n",
    "#        Sales(mean)  Units(sum)\n",
    "# Region                    \n",
    "# East    408.182482      8110.0\n",
    "# North   438.924051      4359.0\n",
    "# South   432.956204      2798.0\n",
    "# West    452.029412      2624.0"
   ]
  },
  {
   "cell_type": "markdown",
   "metadata": {},
   "source": [
    "split the data by the Type column."
   ]
  },
  {
   "cell_type": "code",
   "execution_count": 40,
   "metadata": {},
   "outputs": [
    {
     "name": "stdout",
     "output_type": "stream",
     "text": [
      "Type    Children's Clothing  Men's Clothing  Women's Clothing\n",
      "Region                                                       \n",
      "East             405.743363      423.647541        399.028409\n",
      "North            438.894118      449.157303        432.528169\n",
      "South            412.666667      475.435897        418.924528\n",
      "West             480.523810      465.292683        419.188679\n"
     ]
    }
   ],
   "source": [
    "pivot = pd.pivot_table(\n",
    "    data=df,\n",
    "    index='Region',\n",
    "    columns='Type',\n",
    "    values='Sales'\n",
    ")\n",
    "\n",
    "print(pivot)\n",
    "\n",
    "# Expected:\n",
    "# Type    Children's Clothing  Men's Clothing  Women's Clothing\n",
    "# Region                                                       \n",
    "# East             405.743363      423.647541        399.028409\n",
    "# North            438.894118      449.157303        432.528169\n",
    "# South            412.666667      475.435897        418.924528\n",
    "# West             480.523810      465.292683        419.188679"
   ]
  },
  {
   "cell_type": "markdown",
   "metadata": {},
   "source": [
    "Add a date dimension to our pivot table as part of multiple index."
   ]
  },
  {
   "cell_type": "code",
   "execution_count": 45,
   "metadata": {},
   "outputs": [
    {
     "name": "stdout",
     "output_type": "stream",
     "text": [
      "Type               Children's Clothing  Men's Clothing  Women's Clothing\n",
      "Region Date                                                             \n",
      "East   2020-01-01                  NaN           234.0             322.0\n",
      "       2020-01-02                204.0             NaN             374.0\n",
      "       2020-01-04                  NaN           330.0               NaN\n",
      "       2020-01-07                  NaN           320.0               NaN\n",
      "       2020-01-09                  NaN           352.0               NaN\n"
     ]
    }
   ],
   "source": [
    "pivot = pd.pivot_table(\n",
    "    data=df,\n",
    "    index=['Region','Date'],\n",
    "    columns='Type',\n",
    "    values='Sales'\n",
    ")\n",
    "\n",
    "print(pivot.head())\n",
    "\n",
    "# Returns:\n",
    "# Type         Children's Clothing  Men's Clothing  Women's Clothing\n",
    "# Region Date                                                       \n",
    "# East   1              423.241379      369.250000        428.948718\n",
    "#        2              274.800000      445.425000        456.816327\n",
    "#        3              425.382353      506.421053        342.386364\n",
    "#        4              453.866667      405.666667        364.795455\n",
    "# North  1              394.727273      450.869565        489.944444"
   ]
  },
  {
   "cell_type": "markdown",
   "metadata": {},
   "source": [
    "Create multiple index. \n",
    "\n",
    "auto_awesome\n",
    "Next to the regions, display the period of sales broken down by quarter of years"
   ]
  },
  {
   "cell_type": "code",
   "execution_count": 54,
   "metadata": {},
   "outputs": [
    {
     "name": "stdout",
     "output_type": "stream",
     "text": [
      "Type         Children's Clothing  Men's Clothing  Women's Clothing\n",
      "Region Date                                                       \n",
      "East   1              423.241379      369.250000        428.948718\n",
      "       2              274.800000      445.425000        456.816327\n",
      "       3              425.382353      506.421053        342.386364\n",
      "       4              453.866667      405.666667        364.795455\n",
      "North  1              394.727273      450.869565        489.944444\n"
     ]
    }
   ],
   "source": [
    "pivot = pd.pivot_table(\n",
    "    data=df,\n",
    "    index=['Region',df['Date'].dt.quarter],\n",
    "    columns='Type',\n",
    "    values='Sales'\n",
    ")\n",
    "\n",
    "print(pivot.head())\n",
    "\n",
    "# Expected:\n",
    "# Type         Children's Clothing  Men's Clothing  Women's Clothing\n",
    "# Region Date                                                       \n",
    "# East   1              423.241379      369.250000        428.948718\n",
    "#        2              274.800000      445.425000        456.816327\n",
    "#        3              425.382353      506.421053        342.386364\n",
    "#        4              453.866667      405.666667        364.795455\n",
    "# North  1              394.727273      450.869565        489.944444"
   ]
  },
  {
   "cell_type": "markdown",
   "metadata": {},
   "source": [
    "List only the intersection of East Region, Quarter 2, and Men’s clothing"
   ]
  },
  {
   "cell_type": "code",
   "execution_count": 56,
   "metadata": {},
   "outputs": [
    {
     "name": "stdout",
     "output_type": "stream",
     "text": [
      "369.25\n"
     ]
    }
   ],
   "source": [
    "print(pivot.loc[('East', 1), \"Men's Clothing\"])"
   ]
  },
  {
   "cell_type": "markdown",
   "metadata": {},
   "source": [
    "Add totals to pivot table. Total column and row should be named as Total"
   ]
  },
  {
   "cell_type": "code",
   "execution_count": 58,
   "metadata": {},
   "outputs": [
    {
     "data": {
      "text/html": [
       "<div>\n",
       "<style scoped>\n",
       "    .dataframe tbody tr th:only-of-type {\n",
       "        vertical-align: middle;\n",
       "    }\n",
       "\n",
       "    .dataframe tbody tr th {\n",
       "        vertical-align: top;\n",
       "    }\n",
       "\n",
       "    .dataframe thead th {\n",
       "        text-align: right;\n",
       "    }\n",
       "</style>\n",
       "<table border=\"1\" class=\"dataframe\">\n",
       "  <thead>\n",
       "    <tr style=\"text-align: right;\">\n",
       "      <th>Type</th>\n",
       "      <th>Children's Clothing</th>\n",
       "      <th>Men's Clothing</th>\n",
       "      <th>Women's Clothing</th>\n",
       "      <th>Total</th>\n",
       "    </tr>\n",
       "    <tr>\n",
       "      <th>Region</th>\n",
       "      <th></th>\n",
       "      <th></th>\n",
       "      <th></th>\n",
       "      <th></th>\n",
       "    </tr>\n",
       "  </thead>\n",
       "  <tbody>\n",
       "    <tr>\n",
       "      <th>East</th>\n",
       "      <td>405.743363</td>\n",
       "      <td>423.647541</td>\n",
       "      <td>399.028409</td>\n",
       "      <td>408.182482</td>\n",
       "    </tr>\n",
       "    <tr>\n",
       "      <th>North</th>\n",
       "      <td>438.894118</td>\n",
       "      <td>449.157303</td>\n",
       "      <td>432.528169</td>\n",
       "      <td>438.924051</td>\n",
       "    </tr>\n",
       "    <tr>\n",
       "      <th>South</th>\n",
       "      <td>412.666667</td>\n",
       "      <td>475.435897</td>\n",
       "      <td>418.924528</td>\n",
       "      <td>432.956204</td>\n",
       "    </tr>\n",
       "    <tr>\n",
       "      <th>West</th>\n",
       "      <td>480.523810</td>\n",
       "      <td>465.292683</td>\n",
       "      <td>419.188679</td>\n",
       "      <td>452.029412</td>\n",
       "    </tr>\n",
       "    <tr>\n",
       "      <th>Total</th>\n",
       "      <td>427.743860</td>\n",
       "      <td>444.257732</td>\n",
       "      <td>415.254717</td>\n",
       "      <td>427.254000</td>\n",
       "    </tr>\n",
       "  </tbody>\n",
       "</table>\n",
       "</div>"
      ],
      "text/plain": [
       "Type    Children's Clothing  Men's Clothing  Women's Clothing       Total\n",
       "Region                                                                   \n",
       "East             405.743363      423.647541        399.028409  408.182482\n",
       "North            438.894118      449.157303        432.528169  438.924051\n",
       "South            412.666667      475.435897        418.924528  432.956204\n",
       "West             480.523810      465.292683        419.188679  452.029412\n",
       "Total            427.743860      444.257732        415.254717  427.254000"
      ]
     },
     "execution_count": 58,
     "metadata": {},
     "output_type": "execute_result"
    }
   ],
   "source": [
    "pivot = pd.pivot_table(\n",
    "    data=df,\n",
    "    index='Region',\n",
    "    columns='Type',\n",
    "    values='Sales',\n",
    "    margins=True,\n",
    "    margins_name=\"Total\"\n",
    ")\n",
    "\n",
    "pivot"
   ]
  }
 ],
 "metadata": {
  "kernelspec": {
   "display_name": "base",
   "language": "python",
   "name": "python3"
  },
  "language_info": {
   "codemirror_mode": {
    "name": "ipython",
    "version": 3
   },
   "file_extension": ".py",
   "mimetype": "text/x-python",
   "name": "python",
   "nbconvert_exporter": "python",
   "pygments_lexer": "ipython3",
   "version": "3.9.16"
  },
  "orig_nbformat": 4
 },
 "nbformat": 4,
 "nbformat_minor": 2
}
