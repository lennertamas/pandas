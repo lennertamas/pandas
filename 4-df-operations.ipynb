{
 "cells": [
  {
   "cell_type": "markdown",
   "metadata": {},
   "source": [
    "Basic DataFrame Operations:\n",
    "You can perform various operations on the DataFrame, such as selecting columns, filtering rows, and applying functions. Here are a few examples:"
   ]
  },
  {
   "cell_type": "markdown",
   "metadata": {},
   "source": [
    "**axes**\n",
    "\n",
    "Returns the list of the labels of the series."
   ]
  },
  {
   "cell_type": "code",
   "execution_count": 35,
   "metadata": {},
   "outputs": [
    {
     "name": "stdout",
     "output_type": "stream",
     "text": [
      "axes: [Index(['a', 'b', 'c', 'd'], dtype='object'), Index(['one', 'two'], dtype='object')]\n",
      "empty: False\n",
      "ndim: 2\n",
      "size:8\n",
      "values: \n",
      "[[ 1.  1.]\n",
      " [ 2.  2.]\n",
      " [ 3.  3.]\n",
      " [nan  4.]]\n",
      "head: \n",
      "   one  two\n",
      "a  1.0    1\n",
      "b  2.0    2\n",
      "tail: \n",
      "   one  two\n",
      "c  3.0    3\n",
      "d  NaN    4\n",
      "transpose: \n",
      "       a    b    c    d\n",
      "one  1.0  2.0  3.0  NaN\n",
      "two  1.0  2.0  3.0  4.0\n",
      "dtypes: \n",
      "one    float64\n",
      "two      int64\n",
      "dtype: object\n",
      "shape: \n",
      "(4, 2)\n"
     ]
    }
   ],
   "source": [
    "import pandas as pd\n",
    "import numpy as np\n",
    "\n",
    "d = {'one' : pd.Series([1, 2, 3], index=['a', 'b', 'c']),\n",
    "   'two' : pd.Series([1, 2, 3, 4], index=['a', 'b', 'c', 'd'])}\n",
    "\n",
    "df = pd.DataFrame(d)\n",
    "\n",
    "#The list of the labels of the df\n",
    "print (\"axes: \" +  str(df.axes))\n",
    "\n",
    "#Is the Object empty?\n",
    "print (\"empty: \" + str(df.empty) )\n",
    "\n",
    "#The dimensions of the object:\n",
    "print(\"ndim: \" + str(df.ndim))\n",
    "\n",
    "#The size of the object:\"\n",
    "print (\"size:\" + str(df.size))\n",
    "\n",
    "#The actual data\n",
    "print (\"values: \") \n",
    "print (str(df.values))\n",
    "\n",
    "#The first two rows of the data series:\n",
    "print (\"head: \")\n",
    "print (str(df.head(2)))\n",
    "\n",
    "#The last two rows of the data series:\n",
    "print (\"tail: \")\n",
    "print ( str(df.tail(2)))\n",
    "\n",
    "#Transpose\n",
    "print(\"transpose: \")\n",
    "print (str(df.T))\n",
    "\n",
    "#The data types of each column are:\n",
    "print(\"dtypes: \")\n",
    "print (df.dtypes)\n",
    "\n",
    "#Returns a tuple representing the dimensionality of the DataFrame:\n",
    "print(\"shape: \")\n",
    "print (df.shape)"
   ]
  },
  {
   "cell_type": "code",
   "execution_count": null,
   "metadata": {},
   "outputs": [],
   "source": [
    "data = {\n",
    "    'Name': ['Alice', 'Bob', 'Charlie'],\n",
    "    'Age': [25, 30, 22]\n",
    "}\n",
    "\n",
    "\n",
    "df = pd.DataFrame(data, index = ['1st', '2nd', '3rd'])\n",
    "print (df)\n",
    "# Reset the index\n",
    "df_reset = df.reset_index(drop=False)  # drop=True to remove the old index\n",
    "print(df_reset)"
   ]
  },
  {
   "cell_type": "markdown",
   "metadata": {},
   "source": []
  }
 ],
 "metadata": {
  "kernelspec": {
   "display_name": "base",
   "language": "python",
   "name": "python3"
  },
  "language_info": {
   "codemirror_mode": {
    "name": "ipython",
    "version": 3
   },
   "file_extension": ".py",
   "mimetype": "text/x-python",
   "name": "python",
   "nbconvert_exporter": "python",
   "pygments_lexer": "ipython3",
   "version": "3.9.16"
  },
  "orig_nbformat": 4
 },
 "nbformat": 4,
 "nbformat_minor": 2
}
