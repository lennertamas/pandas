{
 "cells": [
  {
   "cell_type": "code",
   "execution_count": 22,
   "metadata": {},
   "outputs": [
    {
     "name": "stdout",
     "output_type": "stream",
     "text": [
      "44.919999999999995\n",
      "31.833333333333332\n",
      "0.6616279280316959\n",
      "             Age     Rating\n",
      "count  12.000000  12.000000\n",
      "mean   31.833333   3.743333\n",
      "std     9.232682   0.661628\n",
      "min    23.000000   2.560000\n",
      "25%    25.000000   3.230000\n",
      "50%    29.500000   3.790000\n",
      "75%    35.500000   4.132500\n",
      "max    51.000000   4.800000\n",
      "         Name        Age     Rating\n",
      "count      12  12.000000  12.000000\n",
      "unique     10        NaN        NaN\n",
      "top     Ricky        NaN        NaN\n",
      "freq        3        NaN        NaN\n",
      "mean      NaN  31.833333   3.743333\n",
      "std       NaN   9.232682   0.661628\n",
      "min       NaN  23.000000   2.560000\n",
      "25%       NaN  25.000000   3.230000\n",
      "50%       NaN  29.500000   3.790000\n",
      "75%       NaN  35.500000   4.132500\n",
      "max       NaN  51.000000   4.800000\n",
      "         Values\n",
      "count  4.000000\n",
      "mean   2.500000\n",
      "std    1.290994\n",
      "min    1.000000\n",
      "25%    1.750000\n",
      "50%    2.500000\n",
      "75%    3.250000\n",
      "max    4.000000\n"
     ]
    }
   ],
   "source": [
    "import pandas as pd\n",
    "import numpy as np\n",
    " \n",
    "data = {'Name':pd.Series(['Ricky','Tom','Ricky','Vin','Steve','Ricky','Jack',\n",
    "   'Lee','David','Gasper','Betina','Andres']),\n",
    "   'Age':pd.Series([25,26,25,23,30,29,23,34,40,30,51,46]),\n",
    "   'Rating':pd.Series([4.23,3.24,3.98,2.56,3.20,4.6,3.8,3.78,2.98,4.80,4.10,3.65])\n",
    "}\n",
    "\n",
    "df = pd.DataFrame(data)\n",
    "\n",
    "#Sum\n",
    "print(df['Rating'].sum())\n",
    "\n",
    "#Mean\n",
    "print (df['Age'].mean())\n",
    "\n",
    "#Standard deviation\n",
    "print (df['Rating'].std())\n",
    "\n",
    "\n",
    "print (df.describe())\n",
    "\n",
    "print (df.describe(include='all'))\n",
    "\n",
    "data = [1,2,3,4]\n",
    "\n",
    "df = pd.DataFrame(data, columns=['Values'])\n",
    "summary = df.describe(percentiles=[.25, .5, .75])\n",
    "print (summary)\n"
   ]
  },
  {
   "cell_type": "code",
   "execution_count": 25,
   "metadata": {},
   "outputs": [
    {
     "name": "stdout",
     "output_type": "stream",
     "text": [
      "0    False\n",
      "1     True\n",
      "2    False\n",
      "3    False\n",
      "4      NaN\n",
      "5    False\n",
      "6    False\n",
      "dtype: object\n"
     ]
    }
   ],
   "source": []
  }
 ],
 "metadata": {
  "kernelspec": {
   "display_name": "base",
   "language": "python",
   "name": "python3"
  },
  "language_info": {
   "codemirror_mode": {
    "name": "ipython",
    "version": 3
   },
   "file_extension": ".py",
   "mimetype": "text/x-python",
   "name": "python",
   "nbconvert_exporter": "python",
   "pygments_lexer": "ipython3",
   "version": "3.9.16"
  },
  "orig_nbformat": 4
 },
 "nbformat": 4,
 "nbformat_minor": 2
}
