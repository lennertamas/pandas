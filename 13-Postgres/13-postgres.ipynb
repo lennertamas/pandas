{
 "cells": [
  {
   "cell_type": "code",
   "execution_count": 4,
   "metadata": {},
   "outputs": [],
   "source": [
    "import psycopg2\n",
    "import pandas as pd\n",
    "\n",
    "host = \"localhost\"\n",
    "database = \"postgres\"\n",
    "user = \"mac\"\n",
    "password = \"postgres\"\n",
    "\n",
    "# Establish a connection\n",
    "connection_string = \"postgresql://mac:postgres>@localhost/postgres\""
   ]
  },
  {
   "cell_type": "markdown",
   "metadata": {},
   "source": [
    "### Select"
   ]
  },
  {
   "cell_type": "code",
   "execution_count": 19,
   "metadata": {},
   "outputs": [
    {
     "name": "stdout",
     "output_type": "stream",
     "text": [
      "    id  name\n",
      "0    1  Tomi\n",
      "1    2  Kati\n",
      "2    8  Andi\n",
      "3    9  Andi\n",
      "4   10  Tomi\n",
      "5   11  Andi\n",
      "6   12  Andi\n",
      "7   13  Andi\n",
      "8   14  Andi\n",
      "9   15  Andi\n",
      "10  16  Andi\n",
      "11  17  Andi\n",
      "12  18  Andi\n",
      "13  19  Andi\n",
      "14  20  Andi\n",
      "15  21  Andi\n",
      "16  22  Andi\n",
      "17  23  Andi\n",
      "18  24  Andi\n",
      "19  25  Andi\n",
      "20  26  Andi\n",
      "21  27  Andi\n",
      "22  28  Andi\n"
     ]
    },
    {
     "name": "stderr",
     "output_type": "stream",
     "text": [
      "/Users/mac/opt/anaconda3/lib/python3.9/site-packages/pandas/io/sql.py:762: UserWarning: pandas only support SQLAlchemy connectable(engine/connection) ordatabase string URI or sqlite3 DBAPI2 connectionother DBAPI2 objects are not tested, please consider using SQLAlchemy\n",
      "  warnings.warn(\n"
     ]
    }
   ],
   "source": [
    "db = psycopg2.connect(connection_string)\n",
    "db.autocommit = True\n",
    "\n",
    "query = \"SELECT * FROM demo;\"\n",
    "\n",
    "# Create a Pandas DataFrame\n",
    "df = pd.read_sql(query, db)\n",
    "print (df)\n",
    "db.close()"
   ]
  },
  {
   "cell_type": "markdown",
   "metadata": {},
   "source": []
  },
  {
   "cell_type": "markdown",
   "metadata": {},
   "source": [
    "### Insert"
   ]
  },
  {
   "cell_type": "code",
   "execution_count": 18,
   "metadata": {},
   "outputs": [
    {
     "data": {
      "text/plain": [
       "1"
      ]
     },
     "execution_count": 18,
     "metadata": {},
     "output_type": "execute_result"
    }
   ],
   "source": [
    "# Create a Pandas DataFrame with the data you want to insert\n",
    "data = {'id': [29],\n",
    "        'name': [\"Béla\"]}\n",
    "df = pd.DataFrame(data)\n",
    "\n",
    "# Use the to_sql() method to insert the data into the MySQL database\n",
    "df.to_sql('people', connection_string, if_exists='append', index=False)"
   ]
  },
  {
   "cell_type": "markdown",
   "metadata": {},
   "source": [
    "### Update"
   ]
  },
  {
   "cell_type": "code",
   "execution_count": 14,
   "metadata": {},
   "outputs": [
    {
     "name": "stdout",
     "output_type": "stream",
     "text": [
      "    id  name\n",
      "0    1  Tomi\n",
      "1    2  Kati\n",
      "2    8  Andi\n",
      "3    9  Andi\n",
      "4   10  Béla\n",
      "5   11  Andi\n",
      "6   12  Andi\n",
      "7   13  Andi\n",
      "8   14  Andi\n",
      "9   15  Andi\n",
      "10  16  Andi\n",
      "11  17  Andi\n",
      "12  18  Andi\n",
      "13  19  Andi\n",
      "14  20  Andi\n",
      "15  21  Andi\n",
      "16  22  Andi\n",
      "17  23  Andi\n",
      "18  24  Andi\n",
      "19  25  Andi\n",
      "20  26  Andi\n",
      "21  27  Andi\n",
      "22  28  Andi\n"
     ]
    },
    {
     "name": "stderr",
     "output_type": "stream",
     "text": [
      "/Users/mac/opt/anaconda3/lib/python3.9/site-packages/pandas/io/sql.py:762: UserWarning: pandas only support SQLAlchemy connectable(engine/connection) ordatabase string URI or sqlite3 DBAPI2 connectionother DBAPI2 objects are not tested, please consider using SQLAlchemy\n",
      "  warnings.warn(\n"
     ]
    }
   ],
   "source": [
    "db = psycopg2.connect(connection_string)\n",
    "\n",
    "query = \"SELECT * FROM demo;\"\n",
    "\n",
    "# Create a Pandas DataFrame\n",
    "df = pd.read_sql(query, db)\n",
    "\n",
    "df.loc[df[\"id\"]==10, \"name\"]=\"Béla\"\n",
    "print (df)\n",
    "\n",
    "df.to_sql('people', connection_string, if_exists='replace', index=False)\n",
    "\n",
    "db.close()\n"
   ]
  }
 ],
 "metadata": {
  "kernelspec": {
   "display_name": "base",
   "language": "python",
   "name": "python3"
  },
  "language_info": {
   "codemirror_mode": {
    "name": "ipython",
    "version": 3
   },
   "file_extension": ".py",
   "mimetype": "text/x-python",
   "name": "python",
   "nbconvert_exporter": "python",
   "pygments_lexer": "ipython3",
   "version": "3.9.16"
  },
  "orig_nbformat": 4
 },
 "nbformat": 4,
 "nbformat_minor": 2
}
