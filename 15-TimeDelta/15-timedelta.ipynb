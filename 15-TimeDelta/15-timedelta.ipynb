{
 "cells": [
  {
   "cell_type": "markdown",
   "metadata": {},
   "source": [
    "### Timedeltas\n",
    "\n",
    "Timedeltas are objects representing the difference between two points in time, between two timestamps."
   ]
  },
  {
   "cell_type": "code",
   "execution_count": null,
   "metadata": {},
   "outputs": [],
   "source": [
    "import pandas as pd\n",
    "\n",
    "date1 = pd.to_datetime(\"2023-09-01 13:49:00\")\n",
    "date2 = pd.to_datetime(\"2023-09-05 00:00:00\")\n",
    "date2-date1 "
   ]
  },
  {
   "cell_type": "code",
   "execution_count": null,
   "metadata": {},
   "outputs": [],
   "source": [
    "print(pd.Timedelta(\"3 days\"))\n",
    "print(pd.Timedelta(\"3 day\"))\n",
    "print(pd.Timedelta(\"3 d\"))\n",
    "print(pd.Timedelta(days = 3))"
   ]
  },
  {
   "cell_type": "markdown",
   "metadata": {},
   "source": [
    "### Operation with Timedelta"
   ]
  },
  {
   "cell_type": "code",
   "execution_count": null,
   "metadata": {},
   "outputs": [],
   "source": [
    "date = pd.to_datetime(\"2023-09-01 13:49:00\")\n",
    "delta = pd.Timedelta(days = 3)\n",
    "date + delta"
   ]
  },
  {
   "cell_type": "code",
   "execution_count": null,
   "metadata": {},
   "outputs": [],
   "source": [
    "range = pd.date_range(end = \"2023-01-01\", periods=10, freq=\"D\")\n",
    "print (range)\n",
    "delta = pd.Timedelta(hours = 5)\n",
    "range + delta\n"
   ]
  },
  {
   "cell_type": "markdown",
   "metadata": {},
   "source": [
    "### Periods\n",
    "\n",
    "A Period is a certain time period (hour, day, week, month, quarter and so on) represented in a time object.\n",
    "The main idea behind this is that while a Timestamp represents a certain moment in time, a Period is used when your data is marked with the object is associated with a periodic recurrence, a timespan that the data is linked to."
   ]
  },
  {
   "cell_type": "code",
   "execution_count": 21,
   "metadata": {},
   "outputs": [
    {
     "name": "stdout",
     "output_type": "stream",
     "text": [
      "2023-09-01 08:00\n",
      "2023-09-01 10:00\n"
     ]
    }
   ],
   "source": [
    "str = \"2023-09-01 08:00:00\"\n",
    "print (pd.Period(str, freq=\"2H\"))\n",
    "print (pd.Period(str, freq=\"2H\")+1)\n"
   ]
  },
  {
   "cell_type": "markdown",
   "metadata": {},
   "source": [
    "Periods can be use to check if a specific event occurs within a certain period. Basically a Period represents an interval while a Timestamp represents a point in time."
   ]
  },
  {
   "cell_type": "code",
   "execution_count": 25,
   "metadata": {},
   "outputs": [
    {
     "name": "stdout",
     "output_type": "stream",
     "text": [
      "2017-06-13 00:00:00\n",
      "2017-06-13 23:59:59.999999999\n"
     ]
    },
    {
     "data": {
      "text/plain": [
       "True"
      ]
     },
     "execution_count": 25,
     "metadata": {},
     "output_type": "execute_result"
    }
   ],
   "source": [
    "p = pd.Period('2017-06-13')\n",
    "test = pd.Timestamp('2017-06-13 22:11')\n",
    "print (p.start_time)\n",
    "print (p.end_time)\n",
    "p.start_time < test < p.end_time"
   ]
  }
 ],
 "metadata": {
  "kernelspec": {
   "display_name": "base",
   "language": "python",
   "name": "python3"
  },
  "language_info": {
   "codemirror_mode": {
    "name": "ipython",
    "version": 3
   },
   "file_extension": ".py",
   "mimetype": "text/x-python",
   "name": "python",
   "nbconvert_exporter": "python",
   "pygments_lexer": "ipython3",
   "version": "3.9.16"
  },
  "orig_nbformat": 4
 },
 "nbformat": 4,
 "nbformat_minor": 2
}
