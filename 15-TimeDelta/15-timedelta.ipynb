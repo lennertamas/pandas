{
 "cells": [
  {
   "cell_type": "markdown",
   "metadata": {},
   "source": [
    "### Timedeltas\n",
    "\n",
    "Timedeltas are objects representing the difference between two points in time, between two timestamps."
   ]
  },
  {
   "cell_type": "code",
   "execution_count": 26,
   "metadata": {},
   "outputs": [
    {
     "data": {
      "text/plain": [
       "Timedelta('3 days 10:11:00')"
      ]
     },
     "execution_count": 26,
     "metadata": {},
     "output_type": "execute_result"
    }
   ],
   "source": [
    "import pandas as pd\n",
    "\n",
    "date1 = pd.to_datetime(\"2023-09-01 13:49:00\")\n",
    "date2 = pd.to_datetime(\"2023-09-05 00:00:00\")\n",
    "date2-date1 "
   ]
  },
  {
   "cell_type": "code",
   "execution_count": null,
   "metadata": {},
   "outputs": [],
   "source": [
    "print(pd.Timedelta(\"3 days\"))\n",
    "print(pd.Timedelta(\"3 day\"))\n",
    "print(pd.Timedelta(\"3 d\"))\n",
    "print(pd.Timedelta(days = 3))"
   ]
  },
  {
   "cell_type": "markdown",
   "metadata": {},
   "source": [
    "### Operation with Timedelta"
   ]
  },
  {
   "cell_type": "code",
   "execution_count": 27,
   "metadata": {},
   "outputs": [
    {
     "data": {
      "text/plain": [
       "Timestamp('2023-09-04 13:49:00')"
      ]
     },
     "execution_count": 27,
     "metadata": {},
     "output_type": "execute_result"
    }
   ],
   "source": [
    "date = pd.to_datetime(\"2023-09-01 13:49:00\")\n",
    "delta = pd.Timedelta(days = 3)\n",
    "date + delta"
   ]
  },
  {
   "cell_type": "code",
   "execution_count": 28,
   "metadata": {},
   "outputs": [
    {
     "name": "stdout",
     "output_type": "stream",
     "text": [
      "DatetimeIndex(['2022-12-23', '2022-12-24', '2022-12-25', '2022-12-26',\n",
      "               '2022-12-27', '2022-12-28', '2022-12-29', '2022-12-30',\n",
      "               '2022-12-31', '2023-01-01'],\n",
      "              dtype='datetime64[ns]', freq='D')\n"
     ]
    },
    {
     "data": {
      "text/plain": [
       "DatetimeIndex(['2022-12-23 05:00:00', '2022-12-24 05:00:00',\n",
       "               '2022-12-25 05:00:00', '2022-12-26 05:00:00',\n",
       "               '2022-12-27 05:00:00', '2022-12-28 05:00:00',\n",
       "               '2022-12-29 05:00:00', '2022-12-30 05:00:00',\n",
       "               '2022-12-31 05:00:00', '2023-01-01 05:00:00'],\n",
       "              dtype='datetime64[ns]', freq='D')"
      ]
     },
     "execution_count": 28,
     "metadata": {},
     "output_type": "execute_result"
    }
   ],
   "source": [
    "range = pd.date_range(end = \"2023-01-01\", periods=10, freq=\"D\")\n",
    "print (range)\n",
    "delta = pd.Timedelta(hours = 5)\n",
    "range + delta\n"
   ]
  },
  {
   "cell_type": "markdown",
   "metadata": {},
   "source": [
    "### Periods\n",
    "\n",
    "A Period is a certain time period (hour, day, week, month, quarter and so on) represented in a time object.\n",
    "The main idea behind this is that while a Timestamp represents a certain moment in time, a Period is used when your data is marked with the object is associated with a periodic recurrence, a timespan that the data is linked to."
   ]
  },
  {
   "cell_type": "code",
   "execution_count": 21,
   "metadata": {},
   "outputs": [
    {
     "name": "stdout",
     "output_type": "stream",
     "text": [
      "2023-09-01 08:00\n",
      "2023-09-01 10:00\n"
     ]
    }
   ],
   "source": [
    "str = \"2023-09-01 08:00:00\"\n",
    "print (pd.Period(str, freq=\"2H\"))\n",
    "print (pd.Period(str, freq=\"2H\")+1)\n"
   ]
  },
  {
   "cell_type": "markdown",
   "metadata": {},
   "source": [
    "Periods can be use to check if a specific event occurs within a certain period. Basically a Period represents an interval while a Timestamp represents a point in time."
   ]
  },
  {
   "cell_type": "code",
   "execution_count": 25,
   "metadata": {},
   "outputs": [
    {
     "name": "stdout",
     "output_type": "stream",
     "text": [
      "2017-06-13 00:00:00\n",
      "2017-06-13 23:59:59.999999999\n"
     ]
    },
    {
     "data": {
      "text/plain": [
       "True"
      ]
     },
     "execution_count": 25,
     "metadata": {},
     "output_type": "execute_result"
    }
   ],
   "source": [
    "p = pd.Period('2017-06-13')\n",
    "test = pd.Timestamp('2017-06-13 22:11')\n",
    "print (p.start_time)\n",
    "print (p.end_time)\n",
    "p.start_time < test < p.end_time"
   ]
  },
  {
   "cell_type": "code",
   "execution_count": 45,
   "metadata": {},
   "outputs": [
    {
     "name": "stdout",
     "output_type": "stream",
     "text": [
      "2017-06-01 00:00:00\n",
      "2017-06-30 23:59:59.999999999\n",
      "30\n"
     ]
    }
   ],
   "source": [
    "p = pd.Period('2017-06')\n",
    "print(p.start_time)\n",
    "print(p.end_time)\n",
    "print(p.day)"
   ]
  },
  {
   "cell_type": "code",
   "execution_count": 46,
   "metadata": {},
   "outputs": [
    {
     "name": "stdout",
     "output_type": "stream",
     "text": [
      "Difference between 2023-06 and 2023-02: <4 * MonthEnds>\n"
     ]
    }
   ],
   "source": [
    "import pandas as pd\n",
    "\n",
    "# Create two periods\n",
    "period1 = pd.Period('2023-06')\n",
    "period2 = pd.Period('2023-02')\n",
    "\n",
    "# Calculate the difference between the two periods\n",
    "period_difference = period1 - period2\n",
    "\n",
    "print(f'Difference between {period1} and {period2}: {period_difference}')"
   ]
  },
  {
   "cell_type": "code",
   "execution_count": 48,
   "metadata": {},
   "outputs": [
    {
     "name": "stdout",
     "output_type": "stream",
     "text": [
      "           Value\n",
      "2023Q1  0.237783\n",
      "2023Q2  0.359558\n",
      "2023Q3  0.071749\n",
      "2023Q4  0.321630\n"
     ]
    }
   ],
   "source": [
    "import numpy as np\n",
    "\n",
    "periods = pd.period_range(start='2023-01', end='2023-12', freq='M')\n",
    "\n",
    "# Create random data\n",
    "data = np.random.rand(len(periods))\n",
    "\n",
    "# Create a DataFrame with a PeriodIndex\n",
    "df = pd.DataFrame(data, index=periods, columns=['Value'])\n",
    "\n",
    "# Resample data by quarterly frequency and calculate the mean\n",
    "quarterly_mean = df.resample('Q').mean()\n",
    "\n",
    "print(quarterly_mean)"
   ]
  },
  {
   "cell_type": "code",
   "execution_count": 58,
   "metadata": {},
   "outputs": [
    {
     "data": {
      "text/plain": [
       "Period('2014Q2', 'Q-DEC')"
      ]
     },
     "execution_count": 58,
     "metadata": {},
     "output_type": "execute_result"
    }
   ],
   "source": [
    "\n",
    "x = pd.Period('2014', freq='Q')   \n",
    "x + 1  "
   ]
  },
  {
   "cell_type": "code",
   "execution_count": 59,
   "metadata": {},
   "outputs": [
    {
     "data": {
      "text/plain": [
       "PeriodIndex(['2012', '2013', '2014', '2015', '2016', '2017'], dtype='period[A-DEC]')"
      ]
     },
     "execution_count": 59,
     "metadata": {},
     "output_type": "execute_result"
    }
   ],
   "source": [
    "p = pd.period_range('2012', '2017', freq='A')   \n",
    "p   "
   ]
  },
  {
   "cell_type": "code",
   "execution_count": 69,
   "metadata": {},
   "outputs": [
    {
     "data": {
      "text/html": [
       "<div>\n",
       "<style scoped>\n",
       "    .dataframe tbody tr th:only-of-type {\n",
       "        vertical-align: middle;\n",
       "    }\n",
       "\n",
       "    .dataframe tbody tr th {\n",
       "        vertical-align: top;\n",
       "    }\n",
       "\n",
       "    .dataframe thead th {\n",
       "        text-align: right;\n",
       "    }\n",
       "</style>\n",
       "<table border=\"1\" class=\"dataframe\">\n",
       "  <thead>\n",
       "    <tr style=\"text-align: right;\">\n",
       "      <th></th>\n",
       "      <th>day</th>\n",
       "    </tr>\n",
       "  </thead>\n",
       "  <tbody>\n",
       "    <tr>\n",
       "      <th>2020-08-15</th>\n",
       "      <td>Sun</td>\n",
       "    </tr>\n",
       "    <tr>\n",
       "      <th>2020-08-16</th>\n",
       "      <td>Mon</td>\n",
       "    </tr>\n",
       "    <tr>\n",
       "      <th>2020-08-17</th>\n",
       "      <td>Tue</td>\n",
       "    </tr>\n",
       "    <tr>\n",
       "      <th>2020-08-18</th>\n",
       "      <td>Wed</td>\n",
       "    </tr>\n",
       "    <tr>\n",
       "      <th>2020-08-19</th>\n",
       "      <td>Thurs</td>\n",
       "    </tr>\n",
       "    <tr>\n",
       "      <th>2020-08-20</th>\n",
       "      <td>Fri</td>\n",
       "    </tr>\n",
       "    <tr>\n",
       "      <th>2020-08-21</th>\n",
       "      <td>Sat</td>\n",
       "    </tr>\n",
       "  </tbody>\n",
       "</table>\n",
       "</div>"
      ],
      "text/plain": [
       "              day\n",
       "2020-08-15    Sun\n",
       "2020-08-16    Mon\n",
       "2020-08-17    Tue\n",
       "2020-08-18    Wed\n",
       "2020-08-19  Thurs\n",
       "2020-08-20    Fri\n",
       "2020-08-21    Sat"
      ]
     },
     "execution_count": 69,
     "metadata": {},
     "output_type": "execute_result"
    }
   ],
   "source": [
    "day = [\"Sun\", \"Mon\", \"Tue\",\n",
    "       \"Wed\", \"Thurs\", \"Fri\", \"Sat\"]\n",
    " \n",
    "# pass the period and starting index\n",
    "daycode = pd.date_range('2020-08-15', periods=7)\n",
    " \n",
    "# Determine Period Index and Column for DataFrame\n",
    "df = pd.DataFrame(day, index=daycode, columns=['day'])\n",
    " \n",
    "df\n",
    " "
   ]
  },
  {
   "cell_type": "code",
   "execution_count": 70,
   "metadata": {},
   "outputs": [
    {
     "data": {
      "text/plain": [
       "DatetimeIndex([], dtype='datetime64[ns, UTC]', freq='M')"
      ]
     },
     "execution_count": 70,
     "metadata": {},
     "output_type": "execute_result"
    }
   ],
   "source": [
    "dates = pd.core.indexes.datetimes.date_range(\"2022-12-01 0:00:00+00:00\", \"2022-12-05 14:26:00+00:00\", inclusive=\"both\", freq=\"1M\")\n",
    "dates"
   ]
  },
  {
   "cell_type": "code",
   "execution_count": 72,
   "metadata": {},
   "outputs": [
    {
     "name": "stdout",
     "output_type": "stream",
     "text": [
      "PeriodIndex...\n",
      " PeriodIndex(['2018-07-25', '2019-10-30', '2020-11-20', '2021-09-15',\n",
      "             '2022-03-12', '2023-06-18'],\n",
      "            dtype='period[D]')\n",
      "\n",
      "PeriodIndex frequency...\n",
      " <Day>\n",
      "\n",
      "The number of days from the PeriodIndex...\n",
      " Int64Index([25, 30, 20, 15, 12, 18], dtype='int64')\n"
     ]
    }
   ],
   "source": [
    "# Create a PeriodIndex object\n",
    "# PeriodIndex is an immutable ndarray holding ordinal values indicating regular periods in time\n",
    "# We have set the frequency using the \"freq\" parameter\n",
    "periodIndex = pd.PeriodIndex(['2018-07-25', '2019-10-30', '2020-11-20',\n",
    "'2021-09-15', '2022-03-12', '2023-06-18'], freq=\"D\")\n",
    "\n",
    "# Display PeriodIndex object\n",
    "print(\"PeriodIndex...\\n\", periodIndex)\n",
    "\n",
    "# Display PeriodIndex frequency\n",
    "print(\"\\nPeriodIndex frequency...\\n\", periodIndex.freq)\n",
    "\n",
    "# Display day from the PeriodIndex object\n",
    "print(\"\\nThe number of days from the PeriodIndex...\\n\", periodIndex.day)"
   ]
  },
  {
   "cell_type": "code",
   "execution_count": 1,
   "metadata": {},
   "outputs": [
    {
     "name": "stdout",
     "output_type": "stream",
     "text": [
      "The datetime 2023-09-06 14:30:00 is in the period 2023-09-06.\n"
     ]
    }
   ],
   "source": [
    "import pandas as pd\n",
    "\n",
    "# Sample datetime and period\n",
    "datetime_obj = pd.Timestamp('2023-09-06 14:30:00')\n",
    "period = pd.Period('2023-09-06', freq='D')  # Represents a daily period\n",
    "\n",
    "# Check if the datetime is within the period using boolean indexing\n",
    "is_in_period = (period.start_time <= datetime_obj) & (datetime_obj < period.end_time)\n",
    "\n",
    "if is_in_period:\n",
    "    print(f\"The datetime {datetime_obj} is in the period {period}.\")\n",
    "else:\n",
    "    print(f\"The datetime {datetime_obj} is not in the period {period}.\")"
   ]
  }
 ],
 "metadata": {
  "kernelspec": {
   "display_name": "base",
   "language": "python",
   "name": "python3"
  },
  "language_info": {
   "codemirror_mode": {
    "name": "ipython",
    "version": 3
   },
   "file_extension": ".py",
   "mimetype": "text/x-python",
   "name": "python",
   "nbconvert_exporter": "python",
   "pygments_lexer": "ipython3",
   "version": "3.9.16"
  },
  "orig_nbformat": 4
 },
 "nbformat": 4,
 "nbformat_minor": 2
}
