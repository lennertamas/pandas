{
 "cells": [
  {
   "cell_type": "markdown",
   "metadata": {},
   "source": [
    "**Exercise 1: Time Difference**\n",
    "\n",
    "Suppose you have a DataFrame with two columns, 'Start Time' and 'End Time,' representing the start and end times of events. Calculate the duration of each event in minutes and add it as a new column 'Duration' in the DataFrame."
   ]
  },
  {
   "cell_type": "code",
   "execution_count": 2,
   "metadata": {},
   "outputs": [],
   "source": [
    "import pandas as pd"
   ]
  },
  {
   "cell_type": "code",
   "execution_count": 3,
   "metadata": {},
   "outputs": [
    {
     "name": "stdout",
     "output_type": "stream",
     "text": [
      "           Start Time            End Time  Duration\n",
      "0 2023-09-05 10:00:00 2023-09-05 10:45:00      45.0\n",
      "1 2023-09-05 11:30:00 2023-09-05 12:15:00      45.0\n",
      "2 2023-09-05 14:15:00 2023-09-05 15:45:00      90.0\n"
     ]
    }
   ],
   "source": [
    "\n",
    "\n",
    "# Create a sample DataFrame\n",
    "data = {'Start Time': ['2023-09-05 10:00:00', '2023-09-05 11:30:00', '2023-09-05 14:15:00'],\n",
    "        'End Time': ['2023-09-05 10:45:00', '2023-09-05 12:15:00', '2023-09-05 15:45:00']}\n",
    "\n",
    "df = pd.DataFrame(data)\n",
    "\n",
    "# Convert columns to datetime\n",
    "df['Start Time'] = pd.to_datetime(df['Start Time'])\n",
    "df['End Time'] = pd.to_datetime(df['End Time'])\n",
    "\n",
    "# Calculate duration in minutes\n",
    "df['Duration'] = (df['End Time'] - df['Start Time']).dt.total_seconds() / 60\n",
    "\n",
    "print(df)"
   ]
  },
  {
   "cell_type": "markdown",
   "metadata": {},
   "source": [
    "**Exercise 2: Date Manipulation**\n",
    "\n",
    "Suppose you have a DataFrame with a 'Date' column containing dates in the format 'YYYY-MM-DD.' Add a new column 'Next Day' that contains the date one day after the 'Date' column."
   ]
  },
  {
   "cell_type": "code",
   "execution_count": 4,
   "metadata": {},
   "outputs": [
    {
     "name": "stdout",
     "output_type": "stream",
     "text": [
      "        Date   Next Day\n",
      "0 2023-09-05 2023-09-06\n",
      "1 2023-09-10 2023-09-11\n",
      "2 2023-09-15 2023-09-16\n"
     ]
    }
   ],
   "source": [
    "import pandas as pd\n",
    "\n",
    "# Create a sample DataFrame\n",
    "data = {'Date': ['2023-09-05', '2023-09-10', '2023-09-15']}\n",
    "df = pd.DataFrame(data)\n",
    "\n",
    "# Convert 'Date' column to datetime\n",
    "df['Date'] = pd.to_datetime(df['Date'])\n",
    "\n",
    "# Add a new column 'Next Day'\n",
    "df['Next Day'] = df['Date'] + pd.Timedelta(days=1)\n",
    "\n",
    "print(df)"
   ]
  }
 ],
 "metadata": {
  "kernelspec": {
   "display_name": "base",
   "language": "python",
   "name": "python3"
  },
  "language_info": {
   "codemirror_mode": {
    "name": "ipython",
    "version": 3
   },
   "file_extension": ".py",
   "mimetype": "text/x-python",
   "name": "python",
   "nbconvert_exporter": "python",
   "pygments_lexer": "ipython3",
   "version": "3.9.16"
  },
  "orig_nbformat": 4
 },
 "nbformat": 4,
 "nbformat_minor": 2
}
