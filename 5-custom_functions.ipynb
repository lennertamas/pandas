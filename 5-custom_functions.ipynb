{
 "cells": [
  {
   "cell_type": "markdown",
   "metadata": {},
   "source": [
    "There are generally 3 ways to apply custom functions in Pandas: \n",
    "`map` , `apply` , and `applymap`.\n",
    "map works element-wise on a series, and is optimized for mapping values to a series (e.g. one column of a DataFrame).\n",
    "applymap works element-wise on a DataFrame, and is optimized for mapping values to a DataFrame.\n",
    "apply works on both series and DataFrames, but it’s relatively slow and should only be used if you’re running out of other options."
   ]
  },
  {
   "cell_type": "code",
   "execution_count": 2,
   "metadata": {},
   "outputs": [
    {
     "name": "stdout",
     "output_type": "stream",
     "text": [
      "   A  B    C          D\n",
      "0  1  2  cat         []\n",
      "1  3  4  dog  [1, 2, 3]\n",
      "2  5  1  NaN  [3, 5, 5]\n",
      "   A  B       C          D\n",
      "0  1  2  kitten         []\n",
      "1  3  4   puppy  [1, 2, 3]\n",
      "2  5  1     NaN  [3, 5, 5]\n",
      "0     KITTEN\n",
      "1      PUPPY\n",
      "2    unknown\n",
      "Name: C, dtype: object\n"
     ]
    }
   ],
   "source": [
    "import pandas as pd\n",
    "import numpy as np\n",
    "\n",
    "#MAP\n",
    "\n",
    "def get_avg_rating(lst):\n",
    "    if len(lst) == 0:\n",
    "        return np.nan\n",
    "    else:\n",
    "        return round(sum(lst) / len(lst), 1)\n",
    "\n",
    "\n",
    "df = pd.DataFrame([[1, 2, 'cat', []]\n",
    "    ,[3, 4, 'dog', [1,2,3]]\n",
    "    ,[5, 1, np.nan, [3,5,5]]], columns=['A', 'B', 'C', 'D'])\n",
    "print(df)\n",
    "\n",
    "#value mapping\n",
    "df['C'] = df['C'].map({'cat': 'kitten', 'dog': 'puppy'})\n",
    "print (df)\n",
    "\n",
    "#anonymus method\n",
    "df1 = df['C'] = df['C'].map(lambda x: 'unknown' if x is np.NaN else x.upper())\n",
    "print(df1)\n",
    "\n",
    "#custom method\n",
    "df['D'] = df['D'].map(get_avg_rating)\n",
    "\n",
    "\n"
   ]
  },
  {
   "cell_type": "code",
   "execution_count": 4,
   "metadata": {},
   "outputs": [
    {
     "name": "stdout",
     "output_type": "stream",
     "text": [
      "   A  B  C  D\n",
      "0  1  1  6  3\n",
      "1  1  1  5  3\n",
      "2  1  1  7  3\n",
      "    A   B\n",
      "0   1   4\n",
      "1   9  16\n",
      "2  25   1\n"
     ]
    }
   ],
   "source": [
    "#APPLYMAP\n",
    "\n",
    "print(df.applymap(lambda x: len(str(x))))\n",
    "\n",
    "print(df[['A', 'B']].applymap(lambda x: x**2))"
   ]
  },
  {
   "cell_type": "code",
   "execution_count": 8,
   "metadata": {},
   "outputs": [
    {
     "data": {
      "text/html": [
       "<div>\n",
       "<style scoped>\n",
       "    .dataframe tbody tr th:only-of-type {\n",
       "        vertical-align: middle;\n",
       "    }\n",
       "\n",
       "    .dataframe tbody tr th {\n",
       "        vertical-align: top;\n",
       "    }\n",
       "\n",
       "    .dataframe thead th {\n",
       "        text-align: right;\n",
       "    }\n",
       "</style>\n",
       "<table border=\"1\" class=\"dataframe\">\n",
       "  <thead>\n",
       "    <tr style=\"text-align: right;\">\n",
       "      <th></th>\n",
       "      <th>A</th>\n",
       "      <th>B</th>\n",
       "      <th>C</th>\n",
       "      <th>D</th>\n",
       "      <th>new_col</th>\n",
       "    </tr>\n",
       "  </thead>\n",
       "  <tbody>\n",
       "    <tr>\n",
       "      <th>0</th>\n",
       "      <td>1</td>\n",
       "      <td>2</td>\n",
       "      <td>KITTEN</td>\n",
       "      <td>NaN</td>\n",
       "      <td>3</td>\n",
       "    </tr>\n",
       "    <tr>\n",
       "      <th>1</th>\n",
       "      <td>3</td>\n",
       "      <td>4</td>\n",
       "      <td>PUPPY</td>\n",
       "      <td>2.0</td>\n",
       "      <td>7</td>\n",
       "    </tr>\n",
       "    <tr>\n",
       "      <th>2</th>\n",
       "      <td>5</td>\n",
       "      <td>1</td>\n",
       "      <td>unknown</td>\n",
       "      <td>4.3</td>\n",
       "      <td>6</td>\n",
       "    </tr>\n",
       "  </tbody>\n",
       "</table>\n",
       "</div>"
      ],
      "text/plain": [
       "   A  B        C    D  new_col\n",
       "0  1  2   KITTEN  NaN        3\n",
       "1  3  4    PUPPY  2.0        7\n",
       "2  5  1  unknown  4.3        6"
      ]
     },
     "execution_count": 8,
     "metadata": {},
     "output_type": "execute_result"
    }
   ],
   "source": [
    "#APPLY\n",
    "\n",
    "def add(row):\n",
    "   return row[0]+row[1]\n",
    "\n",
    "df['new_col'] = df.apply(add, axis=1)\n",
    "df"
   ]
  }
 ],
 "metadata": {
  "kernelspec": {
   "display_name": "base",
   "language": "python",
   "name": "python3"
  },
  "language_info": {
   "codemirror_mode": {
    "name": "ipython",
    "version": 3
   },
   "file_extension": ".py",
   "mimetype": "text/x-python",
   "name": "python",
   "nbconvert_exporter": "python",
   "pygments_lexer": "ipython3",
   "version": "3.9.16"
  },
  "orig_nbformat": 4
 },
 "nbformat": 4,
 "nbformat_minor": 2
}
