{
 "cells": [
  {
   "cell_type": "markdown",
   "metadata": {},
   "source": [
    "The categorical data type is useful in the following cases:\n",
    "\n",
    "A string variable consisting of only a few different values. Converting such a string variable to a categorical variable will save some memory, see here.\n",
    "The lexical order of a variable is not the same as the logical order (“one”, “two”, “three”). By converting to a categorical and specifying an order on the categories, sorting and min/max will use the logical order instead of the lexical order, see here.\n",
    "As a signal to other Python libraries that this column should be treated as a categorical variable (e.g. to use suitable statistical methods or plot types)."
   ]
  },
  {
   "cell_type": "markdown",
   "metadata": {},
   "source": [
    "### Create categorical variable"
   ]
  },
  {
   "cell_type": "code",
   "execution_count": 125,
   "metadata": {},
   "outputs": [
    {
     "data": {
      "text/plain": [
       "0    0\n",
       "1    1\n",
       "2    2\n",
       "3    0\n",
       "dtype: int8"
      ]
     },
     "execution_count": 125,
     "metadata": {},
     "output_type": "execute_result"
    }
   ],
   "source": [
    "import pandas as pd\n",
    "import numpy as np\n",
    "\n",
    "s = pd.Series([\"a\",\"b\",\"c\",\"a\"], dtype=\"category\")\n",
    "s.cat.codes"
   ]
  },
  {
   "cell_type": "code",
   "execution_count": 126,
   "metadata": {},
   "outputs": [
    {
     "name": "stdout",
     "output_type": "stream",
     "text": [
      "   A\n",
      "0  a\n",
      "1  b\n",
      "2  c\n",
      "3  a\n"
     ]
    },
    {
     "data": {
      "text/html": [
       "<div>\n",
       "<style scoped>\n",
       "    .dataframe tbody tr th:only-of-type {\n",
       "        vertical-align: middle;\n",
       "    }\n",
       "\n",
       "    .dataframe tbody tr th {\n",
       "        vertical-align: top;\n",
       "    }\n",
       "\n",
       "    .dataframe thead th {\n",
       "        text-align: right;\n",
       "    }\n",
       "</style>\n",
       "<table border=\"1\" class=\"dataframe\">\n",
       "  <thead>\n",
       "    <tr style=\"text-align: right;\">\n",
       "      <th></th>\n",
       "      <th>A</th>\n",
       "      <th>B</th>\n",
       "    </tr>\n",
       "  </thead>\n",
       "  <tbody>\n",
       "    <tr>\n",
       "      <th>0</th>\n",
       "      <td>a</td>\n",
       "      <td>a</td>\n",
       "    </tr>\n",
       "    <tr>\n",
       "      <th>1</th>\n",
       "      <td>b</td>\n",
       "      <td>b</td>\n",
       "    </tr>\n",
       "    <tr>\n",
       "      <th>2</th>\n",
       "      <td>c</td>\n",
       "      <td>c</td>\n",
       "    </tr>\n",
       "    <tr>\n",
       "      <th>3</th>\n",
       "      <td>a</td>\n",
       "      <td>a</td>\n",
       "    </tr>\n",
       "  </tbody>\n",
       "</table>\n",
       "</div>"
      ],
      "text/plain": [
       "   A  B\n",
       "0  a  a\n",
       "1  b  b\n",
       "2  c  c\n",
       "3  a  a"
      ]
     },
     "execution_count": 126,
     "metadata": {},
     "output_type": "execute_result"
    }
   ],
   "source": [
    "df = pd.DataFrame({\"A\":[\"a\",\"b\",\"c\",\"a\"]})\n",
    "print(df)\n",
    "df[\"B\"] = df[\"A\"].astype('category')\n",
    "df"
   ]
  },
  {
   "cell_type": "markdown",
   "metadata": {},
   "source": [
    "### Cut"
   ]
  },
  {
   "cell_type": "markdown",
   "metadata": {},
   "source": [
    "By using special functions, such as cut(), which groups data into discrete bins"
   ]
  },
  {
   "cell_type": "code",
   "execution_count": 128,
   "metadata": {},
   "outputs": [
    {
     "name": "stdout",
     "output_type": "stream",
     "text": [
      "   number\n",
      "0      63\n",
      "1      79\n",
      "2       8\n",
      "3      64\n",
      "4      54\n",
      "5      56\n",
      "6      54\n",
      "7      67\n",
      "8      89\n",
      "9      30\n",
      "   number      bins\n",
      "0      63   61 - 80\n",
      "1      79   61 - 80\n",
      "2       8    1 - 20\n",
      "3      64   61 - 80\n",
      "4      54   41 - 60\n",
      "5      56   41 - 60\n",
      "6      54   41 - 60\n",
      "7      67   61 - 80\n",
      "8      89  81 - 100\n",
      "9      30   21 - 40\n",
      "['61 - 80', '1 - 20', '41 - 60', '81 - 100', '21 - 40']\n",
      "Categories (5, object): ['1 - 20' < '21 - 40' < '41 - 60' < '61 - 80' < '81 - 100']\n"
     ]
    }
   ],
   "source": [
    "df = pd.DataFrame({'number': np.random.randint(1, 100, 10)})\n",
    "print (df)\n",
    "\n",
    "df['bins'] = pd.cut(x=df['number'], bins=[1, 20, 40, 60, 80, 100],\n",
    "                    labels=['1 - 20', '21 - 40', '41 - 60',\n",
    "                            '61 - 80', '81 - 100'], right=True)\n",
    " \n",
    "print(df)\n",
    " \n",
    "# We can check the frequency of each bin\n",
    "print(df['bins'].unique())"
   ]
  },
  {
   "cell_type": "code",
   "execution_count": 142,
   "metadata": {},
   "outputs": [
    {
     "name": "stdout",
     "output_type": "stream",
     "text": [
      "   Age Age_Category_exclusive Age_Category_inclusive\n",
      "0    0                  Child                    NaN\n",
      "1   12                  Child                  Child\n",
      "2   19               Teenager               Teenager\n",
      "3   35                  Adult                  Adult\n",
      "4   50                  Adult                  Adult\n",
      "5   70                 Senior                 Senior\n",
      "6   85                 Senior                 Senior\n",
      "7   95                 Senior                 Senior\n",
      "8  100                 Senior                 Senior\n",
      "9  101                 Senior                 Senior\n"
     ]
    }
   ],
   "source": [
    "# Sample data\n",
    "data = {'Age': [0, 12, 19, 35, 50, 70, 85, 95, 100, 101]}\n",
    "\n",
    "# Create a DataFrame\n",
    "df = pd.DataFrame(data)\n",
    "\n",
    "# Define custom age categories with include_lowest\n",
    "bins = [0 ,12, 19, 65, float('inf') ]\n",
    "labels = ['Child', 'Teenager', 'Adult', 'Senior']\n",
    "\n",
    "# By default, include_lowest is False\n",
    "df['Age_Category_exclusive'] = pd.cut(df['Age'], bins=bins, labels=labels, include_lowest=True, right=True)\n",
    "\n",
    "# Using include_lowest=True to make the lower bound inclusive\n",
    "df['Age_Category_inclusive'] = pd.cut(df['Age'], bins=bins, labels=labels, include_lowest=False, right=True, )\n",
    "\n",
    "# Display the DataFrame\n",
    "print(df)"
   ]
  },
  {
   "cell_type": "markdown",
   "metadata": {},
   "source": [
    " passing a pandas.Categorical object to Series os DF"
   ]
  },
  {
   "cell_type": "code",
   "execution_count": null,
   "metadata": {},
   "outputs": [],
   "source": [
    "cat = pd.Categorical(\n",
    "    [\"a\", \"b\", \"c\", \"a\"], categories=[\"a\", \"c\", \"d\"], ordered=False\n",
    ")\n",
    "\n",
    "s = pd.Series(cat)\n",
    "print(s)\n",
    "\n",
    "df = pd.DataFrame({\"A\":[\"a\",\"b\",\"c\",\"a\"]})\n",
    "df[\"B\"] = cat\n",
    "df.dtypes\n",
    "\n"
   ]
  },
  {
   "cell_type": "markdown",
   "metadata": {},
   "source": [
    "### CategoricalDtype\n",
    "\n",
    "Custom caterorical type can be used for cast"
   ]
  },
  {
   "cell_type": "code",
   "execution_count": 144,
   "metadata": {},
   "outputs": [
    {
     "name": "stdout",
     "output_type": "stream",
     "text": [
      "   A  B\n",
      "0  a  b\n",
      "1  b  c\n",
      "2  c  c\n",
      "3  a  d\n",
      "   A    B\n",
      "0  a    b\n",
      "1  b    c\n",
      "2  c    c\n",
      "3  a  NaN\n",
      "True\n"
     ]
    }
   ],
   "source": [
    "from pandas.api.types import CategoricalDtype\n",
    "\n",
    "cat_type= CategoricalDtype([\"a\", \"b\", \"c\"], ordered=True)\n",
    "\n",
    "df = pd.DataFrame({\"A\": list(\"abca\"), \"B\": list(\"bccd\")})\n",
    "print(df)\n",
    "df_cat = df.astype(cat_type)\n",
    "print(df_cat)\n",
    "\n",
    "print(cat_type == \"category\")"
   ]
  },
  {
   "cell_type": "markdown",
   "metadata": {},
   "source": [
    "### Characteristics\n",
    "\n",
    "\n",
    "Get statistical characteristics"
   ]
  },
  {
   "cell_type": "code",
   "execution_count": 145,
   "metadata": {},
   "outputs": [
    {
     "data": {
      "text/html": [
       "<div>\n",
       "<style scoped>\n",
       "    .dataframe tbody tr th:only-of-type {\n",
       "        vertical-align: middle;\n",
       "    }\n",
       "\n",
       "    .dataframe tbody tr th {\n",
       "        vertical-align: top;\n",
       "    }\n",
       "\n",
       "    .dataframe thead th {\n",
       "        text-align: right;\n",
       "    }\n",
       "</style>\n",
       "<table border=\"1\" class=\"dataframe\">\n",
       "  <thead>\n",
       "    <tr style=\"text-align: right;\">\n",
       "      <th></th>\n",
       "      <th>A</th>\n",
       "      <th>B</th>\n",
       "    </tr>\n",
       "  </thead>\n",
       "  <tbody>\n",
       "    <tr>\n",
       "      <th>count</th>\n",
       "      <td>4</td>\n",
       "      <td>3</td>\n",
       "    </tr>\n",
       "    <tr>\n",
       "      <th>unique</th>\n",
       "      <td>3</td>\n",
       "      <td>2</td>\n",
       "    </tr>\n",
       "    <tr>\n",
       "      <th>top</th>\n",
       "      <td>a</td>\n",
       "      <td>c</td>\n",
       "    </tr>\n",
       "    <tr>\n",
       "      <th>freq</th>\n",
       "      <td>2</td>\n",
       "      <td>2</td>\n",
       "    </tr>\n",
       "  </tbody>\n",
       "</table>\n",
       "</div>"
      ],
      "text/plain": [
       "        A  B\n",
       "count   4  3\n",
       "unique  3  2\n",
       "top     a  c\n",
       "freq    2  2"
      ]
     },
     "execution_count": 145,
     "metadata": {},
     "output_type": "execute_result"
    }
   ],
   "source": [
    "df_cat.describe()"
   ]
  },
  {
   "cell_type": "markdown",
   "metadata": {},
   "source": [
    "### Properties\n",
    "\n",
    "Categorical data has a categories and a ordered property, which list their possible values and whether the ordering matters or not. These properties are exposed as s.cat.categories and s.cat.ordered. If you don’t manually specify categories and ordering, they are inferred from the passed arguments."
   ]
  },
  {
   "cell_type": "code",
   "execution_count": 146,
   "metadata": {},
   "outputs": [
    {
     "name": "stdout",
     "output_type": "stream",
     "text": [
      "0    0\n",
      "1    1\n",
      "2    2\n",
      "3    0\n",
      "dtype: int8\n",
      "Index(['a', 'b', 'c'], dtype='object')\n",
      "False\n"
     ]
    }
   ],
   "source": [
    "s = pd.Series([\"a\", \"b\", \"c\", \"a\"], dtype=\"category\")\n",
    "print(s.cat.codes)\n",
    "print(s.cat.categories)\n",
    "print(s.cat.ordered)"
   ]
  },
  {
   "cell_type": "markdown",
   "metadata": {},
   "source": [
    "### Rename\n",
    "\n",
    "Renaming categories is done by using the rename_categories() method:"
   ]
  },
  {
   "cell_type": "code",
   "execution_count": 148,
   "metadata": {},
   "outputs": [
    {
     "name": "stdout",
     "output_type": "stream",
     "text": [
      "    Name  Gender\n",
      "0    Tim    Male\n",
      "1  Sarah  Female\n",
      "2  Hasan    Male\n",
      "3  Jyoti  Female\n",
      "4   Jack    Male\n"
     ]
    },
    {
     "data": {
      "text/html": [
       "<div>\n",
       "<style scoped>\n",
       "    .dataframe tbody tr th:only-of-type {\n",
       "        vertical-align: middle;\n",
       "    }\n",
       "\n",
       "    .dataframe tbody tr th {\n",
       "        vertical-align: top;\n",
       "    }\n",
       "\n",
       "    .dataframe thead th {\n",
       "        text-align: right;\n",
       "    }\n",
       "</style>\n",
       "<table border=\"1\" class=\"dataframe\">\n",
       "  <thead>\n",
       "    <tr style=\"text-align: right;\">\n",
       "      <th></th>\n",
       "      <th>Name</th>\n",
       "      <th>Gender</th>\n",
       "    </tr>\n",
       "  </thead>\n",
       "  <tbody>\n",
       "    <tr>\n",
       "      <th>0</th>\n",
       "      <td>Tim</td>\n",
       "      <td>M</td>\n",
       "    </tr>\n",
       "    <tr>\n",
       "      <th>1</th>\n",
       "      <td>Sarah</td>\n",
       "      <td>F</td>\n",
       "    </tr>\n",
       "    <tr>\n",
       "      <th>2</th>\n",
       "      <td>Hasan</td>\n",
       "      <td>M</td>\n",
       "    </tr>\n",
       "    <tr>\n",
       "      <th>3</th>\n",
       "      <td>Jyoti</td>\n",
       "      <td>F</td>\n",
       "    </tr>\n",
       "    <tr>\n",
       "      <th>4</th>\n",
       "      <td>Jack</td>\n",
       "      <td>M</td>\n",
       "    </tr>\n",
       "  </tbody>\n",
       "</table>\n",
       "</div>"
      ],
      "text/plain": [
       "    Name Gender\n",
       "0    Tim      M\n",
       "1  Sarah      F\n",
       "2  Hasan      M\n",
       "3  Jyoti      F\n",
       "4   Jack      M"
      ]
     },
     "execution_count": 148,
     "metadata": {},
     "output_type": "execute_result"
    }
   ],
   "source": [
    "# create a dataframe\n",
    "df = pd.DataFrame({\n",
    "        \"Name\": [\"Tim\", \"Sarah\", \"Hasan\", \"Jyoti\", \"Jack\"],\n",
    "        \"Gender\": [\"Male\", \"Female\", \"Male\", \"Female\", \"Male\"]\n",
    "})\n",
    "\n",
    "# change to category dtype\n",
    "df[\"Gender\"] = df[\"Gender\"].astype(\"category\")\n",
    "# display the dataframe\n",
    "print(df)\n",
    "df[\"Gender\"] = df[\"Gender\"].cat.rename_categories([\"F\", \"M\"])\n",
    "df\n"
   ]
  },
  {
   "cell_type": "markdown",
   "metadata": {},
   "source": [
    "### Appending new categories\n",
    "\n",
    "Appending categories can be done by using the add_categories() method:"
   ]
  },
  {
   "cell_type": "code",
   "execution_count": 151,
   "metadata": {},
   "outputs": [
    {
     "name": "stdout",
     "output_type": "stream",
     "text": [
      "0      a\n",
      "1    NaN\n",
      "2      c\n",
      "3      a\n",
      "4    NaN\n",
      "dtype: category\n",
      "Categories (3, object): ['a', 'c', 'd']\n",
      "0      a\n",
      "1    NaN\n",
      "2      c\n",
      "3      a\n",
      "4    NaN\n",
      "dtype: category\n",
      "Categories (4, object): ['a', 'c', 'd', 'e']\n"
     ]
    }
   ],
   "source": [
    "cat = pd.Categorical(\n",
    "    [\"a\", \"b\", \"c\", \"a\", \"e\"], categories=[\"a\", \"c\", \"d\"], ordered=False\n",
    ")\n",
    "\n",
    "s = pd.Series(cat)\n",
    "print (s)\n",
    "\n",
    "#add a new category\n",
    "s = s.cat.add_categories(\"e\")\n",
    "\n",
    "#set actual categories (removee and add in one step)\n",
    "s = s.cat.set_categories([\"a\", \"c\", \"d\", \"e\"])\n",
    "s.cat.categories\n",
    "print (s)\n",
    "\n"
   ]
  },
  {
   "cell_type": "markdown",
   "metadata": {},
   "source": [
    "### Sorting and order\n",
    "\n",
    "If categorical data is ordered (s.cat.ordered == True), then the order of the categories has a meaning and certain operations are possible."
   ]
  },
  {
   "cell_type": "code",
   "execution_count": 119,
   "metadata": {},
   "outputs": [
    {
     "name": "stdout",
     "output_type": "stream",
     "text": [
      "1    2\n",
      "2    3\n",
      "0    1\n",
      "3    1\n",
      "dtype: category\n",
      "Categories (3, int64): [2 < 3 < 1]\n",
      "min:2\n",
      "max:1\n",
      "mode:0    1\n",
      "dtype: category\n",
      "Categories (3, int64): [2 < 3 < 1]\n"
     ]
    }
   ],
   "source": [
    "s = pd.Series([1, 2, 3, 1], dtype=\"category\")\n",
    "s = s.cat.set_categories([2, 3, 1], ordered=True)\n",
    "print(s.sort_values())\n",
    "\n",
    "print (\"min:\" + str(s.min()))\n",
    "print (\"max:\" + str(s.max()))\n",
    "print (\"mode:\" + str(s.mode()))\n",
    "\n",
    "\n"
   ]
  },
  {
   "cell_type": "markdown",
   "metadata": {},
   "source": [
    "### Operations\n",
    "\n",
    "Series methods like `Series.value_counts()` will use all categories, even if some categories are not present in the data"
   ]
  },
  {
   "cell_type": "code",
   "execution_count": 152,
   "metadata": {},
   "outputs": [
    {
     "data": {
      "text/plain": [
       "c    2\n",
       "a    1\n",
       "b    1\n",
       "d    0\n",
       "dtype: int64"
      ]
     },
     "execution_count": 152,
     "metadata": {},
     "output_type": "execute_result"
    }
   ],
   "source": [
    "s = pd.Series(pd.Categorical([\"a\", \"b\", \"c\", \"c\"], categories=[\"c\", \"a\", \"b\", \"d\"]))\n",
    "s.value_counts()"
   ]
  },
  {
   "cell_type": "markdown",
   "metadata": {},
   "source": [
    "Groupby will also show “unused” categories"
   ]
  },
  {
   "cell_type": "code",
   "execution_count": 153,
   "metadata": {},
   "outputs": [
    {
     "name": "stdout",
     "output_type": "stream",
     "text": [
      "  cats  values\n",
      "0    a       1\n",
      "1    b       2\n",
      "2    b       2\n",
      "3    b       2\n",
      "4    c       3\n",
      "5    c       4\n",
      "6    c       5\n"
     ]
    },
    {
     "data": {
      "text/html": [
       "<div>\n",
       "<style scoped>\n",
       "    .dataframe tbody tr th:only-of-type {\n",
       "        vertical-align: middle;\n",
       "    }\n",
       "\n",
       "    .dataframe tbody tr th {\n",
       "        vertical-align: top;\n",
       "    }\n",
       "\n",
       "    .dataframe thead th {\n",
       "        text-align: right;\n",
       "    }\n",
       "</style>\n",
       "<table border=\"1\" class=\"dataframe\">\n",
       "  <thead>\n",
       "    <tr style=\"text-align: right;\">\n",
       "      <th></th>\n",
       "      <th>values</th>\n",
       "    </tr>\n",
       "    <tr>\n",
       "      <th>cats</th>\n",
       "      <th></th>\n",
       "    </tr>\n",
       "  </thead>\n",
       "  <tbody>\n",
       "    <tr>\n",
       "      <th>a</th>\n",
       "      <td>1</td>\n",
       "    </tr>\n",
       "    <tr>\n",
       "      <th>b</th>\n",
       "      <td>6</td>\n",
       "    </tr>\n",
       "    <tr>\n",
       "      <th>c</th>\n",
       "      <td>12</td>\n",
       "    </tr>\n",
       "    <tr>\n",
       "      <th>d</th>\n",
       "      <td>0</td>\n",
       "    </tr>\n",
       "  </tbody>\n",
       "</table>\n",
       "</div>"
      ],
      "text/plain": [
       "      values\n",
       "cats        \n",
       "a          1\n",
       "b          6\n",
       "c         12\n",
       "d          0"
      ]
     },
     "execution_count": 153,
     "metadata": {},
     "output_type": "execute_result"
    }
   ],
   "source": [
    "cats = pd.Categorical(\n",
    "    [\"a\", \"b\", \"b\", \"b\", \"c\", \"c\", \"c\"], categories=[\"a\", \"b\", \"c\", \"d\"]\n",
    ")\n",
    "\n",
    "df = pd.DataFrame({\"cats\": cats, \"values\": [1, 2, 2, 2, 3, 4, 5]})\n",
    "print (df)\n",
    "\n",
    "df.groupby(\"cats\", observed=False).sum()"
   ]
  },
  {
   "cell_type": "markdown",
   "metadata": {},
   "source": [
    "Pivot table"
   ]
  },
  {
   "cell_type": "code",
   "execution_count": 154,
   "metadata": {},
   "outputs": [
    {
     "name": "stdout",
     "output_type": "stream",
     "text": [
      "   A  B  values\n",
      "0  a  c       1\n",
      "1  a  d       2\n",
      "2  b  c       3\n",
      "3  b  d       4\n"
     ]
    },
    {
     "data": {
      "text/html": [
       "<div>\n",
       "<style scoped>\n",
       "    .dataframe tbody tr th:only-of-type {\n",
       "        vertical-align: middle;\n",
       "    }\n",
       "\n",
       "    .dataframe tbody tr th {\n",
       "        vertical-align: top;\n",
       "    }\n",
       "\n",
       "    .dataframe thead th {\n",
       "        text-align: right;\n",
       "    }\n",
       "</style>\n",
       "<table border=\"1\" class=\"dataframe\">\n",
       "  <thead>\n",
       "    <tr style=\"text-align: right;\">\n",
       "      <th></th>\n",
       "      <th></th>\n",
       "      <th>values</th>\n",
       "    </tr>\n",
       "    <tr>\n",
       "      <th>A</th>\n",
       "      <th>B</th>\n",
       "      <th></th>\n",
       "    </tr>\n",
       "  </thead>\n",
       "  <tbody>\n",
       "    <tr>\n",
       "      <th rowspan=\"2\" valign=\"top\">a</th>\n",
       "      <th>c</th>\n",
       "      <td>1</td>\n",
       "    </tr>\n",
       "    <tr>\n",
       "      <th>d</th>\n",
       "      <td>2</td>\n",
       "    </tr>\n",
       "    <tr>\n",
       "      <th rowspan=\"2\" valign=\"top\">b</th>\n",
       "      <th>c</th>\n",
       "      <td>3</td>\n",
       "    </tr>\n",
       "    <tr>\n",
       "      <th>d</th>\n",
       "      <td>4</td>\n",
       "    </tr>\n",
       "  </tbody>\n",
       "</table>\n",
       "</div>"
      ],
      "text/plain": [
       "     values\n",
       "A B        \n",
       "a c       1\n",
       "  d       2\n",
       "b c       3\n",
       "  d       4"
      ]
     },
     "execution_count": 154,
     "metadata": {},
     "output_type": "execute_result"
    }
   ],
   "source": [
    "raw_cat = pd.Categorical([\"a\", \"a\", \"b\", \"b\"], categories=[\"a\", \"b\", \"c\"])\n",
    "\n",
    "df = pd.DataFrame({\"A\": raw_cat, \"B\": [\"c\", \"d\", \"c\", \"d\"], \"values\": [1, 2, 3, 4]})\n",
    "print(df)\n",
    "\n",
    "pd.pivot_table(df, values=\"values\", index=[\"A\", \"B\"])"
   ]
  },
  {
   "cell_type": "markdown",
   "metadata": {},
   "source": [
    "### Missing data"
   ]
  },
  {
   "cell_type": "code",
   "execution_count": 155,
   "metadata": {},
   "outputs": [
    {
     "name": "stdout",
     "output_type": "stream",
     "text": [
      "0      a\n",
      "1      b\n",
      "2    NaN\n",
      "3      a\n",
      "dtype: category\n",
      "Categories (2, object): ['a', 'b']\n",
      "0    0\n",
      "1    1\n",
      "2   -1\n",
      "3    0\n",
      "dtype: int8\n",
      "0    False\n",
      "1    False\n",
      "2     True\n",
      "3    False\n",
      "dtype: bool\n"
     ]
    },
    {
     "data": {
      "text/plain": [
       "0    a\n",
       "1    b\n",
       "2    a\n",
       "3    a\n",
       "dtype: category\n",
       "Categories (2, object): ['a', 'b']"
      ]
     },
     "execution_count": 155,
     "metadata": {},
     "output_type": "execute_result"
    }
   ],
   "source": [
    "s = pd.Series([\"a\", \"b\", np.nan, \"a\"], dtype=\"category\")\n",
    "\n",
    "print (s)\n",
    "print (s.cat.codes)\n",
    "print(pd.isna(s))\n",
    "s.fillna(\"a\")\n"
   ]
  },
  {
   "cell_type": "markdown",
   "metadata": {},
   "source": [
    "### Resource consumption"
   ]
  },
  {
   "cell_type": "code",
   "execution_count": 156,
   "metadata": {},
   "outputs": [
    {
     "name": "stdout",
     "output_type": "stream",
     "text": [
      "16000\n",
      "2016\n"
     ]
    }
   ],
   "source": [
    "s = pd.Series(['foo','bar']*1000)\n",
    "print(s.nbytes)\n",
    "\n",
    "s = s.astype('category')\n",
    "print(s.nbytes)\n"
   ]
  }
 ],
 "metadata": {
  "kernelspec": {
   "display_name": "base",
   "language": "python",
   "name": "python3"
  },
  "language_info": {
   "codemirror_mode": {
    "name": "ipython",
    "version": 3
   },
   "file_extension": ".py",
   "mimetype": "text/x-python",
   "name": "python",
   "nbconvert_exporter": "python",
   "pygments_lexer": "ipython3",
   "version": "3.9.16"
  },
  "orig_nbformat": 4
 },
 "nbformat": 4,
 "nbformat_minor": 2
}
