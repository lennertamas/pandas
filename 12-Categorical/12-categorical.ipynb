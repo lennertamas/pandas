{
 "cells": [
  {
   "cell_type": "markdown",
   "metadata": {},
   "source": [
    "The categorical data type is useful in the following cases:\n",
    "\n",
    "A string variable consisting of only a few different values. Converting such a string variable to a categorical variable will save some memory, see here.\n",
    "The lexical order of a variable is not the same as the logical order (“one”, “two”, “three”). By converting to a categorical and specifying an order on the categories, sorting and min/max will use the logical order instead of the lexical order, see here.\n",
    "As a signal to other Python libraries that this column should be treated as a categorical variable (e.g. to use suitable statistical methods or plot types)."
   ]
  },
  {
   "cell_type": "markdown",
   "metadata": {},
   "source": [
    "### Create categorical variable"
   ]
  },
  {
   "cell_type": "code",
   "execution_count": null,
   "metadata": {},
   "outputs": [],
   "source": [
    "import pandas as pd\n",
    "import numpy as np\n",
    "\n",
    "s = pd.Series([\"a\",\"b\",\"c\",\"a\"], dtype=\"category\")\n",
    "s"
   ]
  },
  {
   "cell_type": "code",
   "execution_count": null,
   "metadata": {},
   "outputs": [],
   "source": [
    "df = pd.DataFrame({\"A\":[\"a\",\"b\",\"c\",\"a\"]})\n",
    "df[\"B\"] = df[\"A\"].astype('category')\n",
    "df"
   ]
  },
  {
   "cell_type": "markdown",
   "metadata": {},
   "source": [
    "### Cut"
   ]
  },
  {
   "cell_type": "markdown",
   "metadata": {},
   "source": [
    "By using special functions, such as cut(), which groups data into discrete bins"
   ]
  },
  {
   "cell_type": "code",
   "execution_count": null,
   "metadata": {},
   "outputs": [],
   "source": [
    "df = pd.DataFrame({'number': np.random.randint(1, 100, 10)})\n",
    "df['bins'] = pd.cut(x=df['number'], bins=[1, 20, 40, 60, 80, 100],\n",
    "                    labels=['1 - 20', '21 - 40', '41 - 60',\n",
    "                            '61 - 80', '81 - 100'])\n",
    " \n",
    "print(df)\n",
    " \n",
    "# We can check the frequency of each bin\n",
    "print(df['bins'].unique())"
   ]
  },
  {
   "cell_type": "code",
   "execution_count": null,
   "metadata": {},
   "outputs": [],
   "source": [
    "# Sample data\n",
    "data = {'Age': [0, 12, 19, 35, 50, 70, 85, 95, 100, 101]}\n",
    "\n",
    "# Create a DataFrame\n",
    "df = pd.DataFrame(data)\n",
    "\n",
    "# Define custom age categories with include_lowest\n",
    "bins = [0 ,12, 19, 65, 100]\n",
    "labels = ['Child', 'Teenager', 'Adult', 'Senior']\n",
    "\n",
    "# By default, include_lowest is False\n",
    "df['Age_Category_exclusive'] = pd.cut(df['Age'], bins=bins, labels=labels, include_lowest=True, right=False)\n",
    "\n",
    "# Using include_lowest=True to make the lower bound inclusive\n",
    "df['Age_Category_inclusive'] = pd.cut(df['Age'], bins=bins, labels=labels, include_lowest=True, right=True)\n",
    "\n",
    "# Display the DataFrame\n",
    "print(df)"
   ]
  },
  {
   "cell_type": "markdown",
   "metadata": {},
   "source": [
    " passing a pandas.Categorical object to Series os DF"
   ]
  },
  {
   "cell_type": "code",
   "execution_count": null,
   "metadata": {},
   "outputs": [],
   "source": [
    "cat = pd.Categorical(\n",
    "    [\"a\", \"b\", \"c\", \"a\"], categories=[\"a\", \"c\", \"d\"], ordered=False\n",
    ")\n",
    "\n",
    "s = pd.Series(cat)\n",
    "print(s)\n",
    "\n",
    "df = pd.DataFrame({\"A\":[\"a\",\"b\",\"c\",\"a\"]})\n",
    "df[\"B\"] = cat\n",
    "df.dtypes\n",
    "\n"
   ]
  },
  {
   "cell_type": "markdown",
   "metadata": {},
   "source": [
    "### CategoricalDtype\n",
    "\n",
    "Custom caterorical type can be used for cast"
   ]
  },
  {
   "cell_type": "code",
   "execution_count": null,
   "metadata": {},
   "outputs": [],
   "source": [
    "from pandas.api.types import CategoricalDtype\n",
    "\n",
    "cat_type= CategoricalDtype([\"a\", \"b\", \"c\"], ordered=True)\n",
    "\n",
    "df = pd.DataFrame({\"A\": list(\"abca\"), \"B\": list(\"bccd\")})\n",
    "df_cat = df.astype(cat_type)\n",
    "print(df_cat)\n",
    "\n",
    "print(cat_type == \"category\")"
   ]
  },
  {
   "cell_type": "markdown",
   "metadata": {},
   "source": [
    "### Characteristics\n",
    "\n",
    "\n",
    "Get statistical characteristics"
   ]
  },
  {
   "cell_type": "code",
   "execution_count": null,
   "metadata": {},
   "outputs": [],
   "source": [
    "df_cat.describe()"
   ]
  },
  {
   "cell_type": "markdown",
   "metadata": {},
   "source": [
    "### Properties\n",
    "\n",
    "Categorical data has a categories and a ordered property, which list their possible values and whether the ordering matters or not. These properties are exposed as s.cat.categories and s.cat.ordered. If you don’t manually specify categories and ordering, they are inferred from the passed arguments."
   ]
  },
  {
   "cell_type": "code",
   "execution_count": null,
   "metadata": {},
   "outputs": [],
   "source": [
    "s = pd.Series([\"a\", \"b\", \"c\", \"a\"], dtype=\"category\")\n",
    "print(s.cat.categories)\n",
    "print(s.cat.ordered)"
   ]
  },
  {
   "cell_type": "markdown",
   "metadata": {},
   "source": [
    "### Rename\n",
    "\n",
    "Renaming categories is done by using the rename_categories() method:"
   ]
  },
  {
   "cell_type": "code",
   "execution_count": null,
   "metadata": {},
   "outputs": [],
   "source": [
    "# create a dataframe\n",
    "df = pd.DataFrame({\n",
    "        \"Name\": [\"Tim\", \"Sarah\", \"Hasan\", \"Jyoti\", \"Jack\"],\n",
    "        \"Gender\": [\"Male\", \"Female\", \"Male\", \"Female\", \"Male\"]\n",
    "})\n",
    "\n",
    "# change to category dtype\n",
    "df[\"Gender\"] = df[\"Gender\"].astype(\"category\")\n",
    "# display the dataframe\n",
    "print(df)\n",
    "print(df[\"Gender\"])\n",
    "df[\"Gender\"] = df[\"Gender\"].cat.rename_categories([\"M\", \"F\"])\n",
    "df\n"
   ]
  },
  {
   "cell_type": "markdown",
   "metadata": {},
   "source": [
    "### Appending new categories\n",
    "\n",
    "Appending categories can be done by using the add_categories() method:"
   ]
  },
  {
   "cell_type": "code",
   "execution_count": null,
   "metadata": {},
   "outputs": [],
   "source": [
    "cat = pd.Categorical(\n",
    "    [\"a\", \"b\", \"c\", \"a\", \"e\"], categories=[\"a\", \"c\", \"d\"], ordered=False\n",
    ")\n",
    "\n",
    "s = pd.Series(cat)\n",
    "print (s)\n",
    "\n",
    "#add a new category\n",
    "s = s.cat.add_categories(\"e\")\n",
    "\n",
    "#set actual categories (removee and add in one step)\n",
    "s = s.cat.set_categories([\"a\", \"c\", \"d\", \"e\"])\n",
    "print (s)\n"
   ]
  },
  {
   "cell_type": "markdown",
   "metadata": {},
   "source": [
    "### Sorting and order\n",
    "\n",
    "If categorical data is ordered (s.cat.ordered == True), then the order of the categories has a meaning and certain operations are possible."
   ]
  },
  {
   "cell_type": "code",
   "execution_count": null,
   "metadata": {},
   "outputs": [],
   "source": [
    "s = pd.Series([1, 2, 3, 1], dtype=\"category\")\n",
    "s = s.cat.set_categories([2, 3, 1], ordered=True)\n",
    "print(s)\n",
    "s.sort_values()\n",
    "\n"
   ]
  },
  {
   "cell_type": "markdown",
   "metadata": {},
   "source": [
    "### Operations\n",
    "\n",
    "Series methods like `Series.value_counts()` will use all categories, even if some categories are not present in the data"
   ]
  },
  {
   "cell_type": "code",
   "execution_count": null,
   "metadata": {},
   "outputs": [],
   "source": [
    "s = pd.Series(pd.Categorical([\"a\", \"b\", \"c\", \"c\"], categories=[\"c\", \"a\", \"b\", \"d\"]))\n",
    "s.value_counts()"
   ]
  },
  {
   "cell_type": "markdown",
   "metadata": {},
   "source": [
    "Groupby will also show “unused” categories"
   ]
  },
  {
   "cell_type": "code",
   "execution_count": null,
   "metadata": {},
   "outputs": [],
   "source": [
    "cats = pd.Categorical(\n",
    "    [\"a\", \"b\", \"b\", \"b\", \"c\", \"c\", \"c\"], categories=[\"a\", \"b\", \"c\", \"d\"]\n",
    ")\n",
    "\n",
    "df = pd.DataFrame({\"cats\": cats, \"values\": [1, 2, 2, 2, 3, 4, 5]})\n",
    "print (df)\n",
    "\n",
    "df.groupby(\"cats\", observed=False).sum()"
   ]
  },
  {
   "cell_type": "markdown",
   "metadata": {},
   "source": [
    "Pivot table"
   ]
  },
  {
   "cell_type": "code",
   "execution_count": null,
   "metadata": {},
   "outputs": [],
   "source": [
    "raw_cat = pd.Categorical([\"a\", \"a\", \"b\", \"b\"], categories=[\"a\", \"b\", \"c\"])\n",
    "\n",
    "df = pd.DataFrame({\"A\": raw_cat, \"B\": [\"c\", \"d\", \"c\", \"d\"], \"values\": [1, 2, 3, 4]})\n",
    "print(df)\n",
    "\n",
    "pd.pivot_table(df, values=\"values\", index=[\"A\", \"B\"])"
   ]
  },
  {
   "cell_type": "markdown",
   "metadata": {},
   "source": [
    "### Missing data"
   ]
  },
  {
   "cell_type": "code",
   "execution_count": null,
   "metadata": {},
   "outputs": [],
   "source": [
    "s = pd.Series([\"a\", \"b\", np.nan, \"a\"], dtype=\"category\")\n",
    "\n",
    "print (s)\n",
    "print (s.cat.codes)\n",
    "print(pd.isna(s))\n",
    "s.fillna(\"a\")\n"
   ]
  },
  {
   "cell_type": "markdown",
   "metadata": {},
   "source": [
    "### Resource consumption"
   ]
  },
  {
   "cell_type": "code",
   "execution_count": 101,
   "metadata": {},
   "outputs": [
    {
     "name": "stdout",
     "output_type": "stream",
     "text": [
      "16000\n",
      "2016\n"
     ]
    }
   ],
   "source": [
    "s = pd.Series(['foo','bar']*1000)\n",
    "print(s.nbytes)\n",
    "\n",
    "s = s.astype('category')\n",
    "print(s.nbytes)\n"
   ]
  }
 ],
 "metadata": {
  "kernelspec": {
   "display_name": "base",
   "language": "python",
   "name": "python3"
  },
  "language_info": {
   "codemirror_mode": {
    "name": "ipython",
    "version": 3
   },
   "file_extension": ".py",
   "mimetype": "text/x-python",
   "name": "python",
   "nbconvert_exporter": "python",
   "pygments_lexer": "ipython3",
   "version": "3.9.16"
  },
  "orig_nbformat": 4
 },
 "nbformat": 4,
 "nbformat_minor": 2
}
